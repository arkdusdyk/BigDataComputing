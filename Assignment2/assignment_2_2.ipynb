{
 "cells": [
  {
   "cell_type": "code",
   "execution_count": 1,
   "id": "blank-overhead",
   "metadata": {},
   "outputs": [
    {
     "data": {
      "image/png": "[encoded data removed]",
      "text/plain": [
       "<Figure size 432x288 with 1 Axes>"
      ]
     },
     "metadata": {
      "needs_background": "light"
     },
     "output_type": "display_data"
    }
   ],
   "source": [
    "import matplotlib.pyplot as plt\n",
    "import csv\n",
    "f = open('seoul.csv', encoding = 'cp949')\n",
    "data = csv.reader(f)\n",
    "next(data)\n",
    "aug = []\n",
    "jan = []\n",
    "for row in data:\n",
    "    if row[-1] != '':\n",
    "        if row[0].split('-')[1] == '08':\n",
    "            aug.append(float(row[-1]))\n",
    "        if row[0].split('-')[1] == '01':\n",
    "            jan.append(float(row[-1]))\n",
    "\n",
    "plt.rc('font', family = 'Apple SD Gothic Neo')\n",
    "plt.title('1월과 8월의 최고기온')\n",
    "plt.hist(aug, bins=100, color = 'r', label = '8월')\n",
    "plt.hist(jan, bins=100, color = 'b', label = '1월')\n",
    "plt.rcParams['axes.unicode_minus'] = False\n",
    "plt.legend()\n",
    "plt.show()\n",
    "f.close()"
   ]
  },
  {
   "cell_type": "code",
   "execution_count": null,
   "id": "composite-digest",
   "metadata": {},
   "outputs": [],
   "source": []
  }
 ],
 "metadata": {
  "kernelspec": {
   "display_name": "Python 3",
   "language": "python",
   "name": "python3"
  },
  "language_info": {
   "codemirror_mode": {
    "name": "ipython",
    "version": 3
   },
   "file_extension": ".py",
   "mimetype": "text/x-python",
   "name": "python",
   "nbconvert_exporter": "python",
   "pygments_lexer": "ipython3",
   "version": "3.9.2"
  }
 },
 "nbformat": 4,
 "nbformat_minor": 5
}
