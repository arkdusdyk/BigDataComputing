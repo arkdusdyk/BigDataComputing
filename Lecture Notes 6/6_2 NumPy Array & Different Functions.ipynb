{
 "cells": [
  {
   "cell_type": "code",
   "execution_count": 5,
   "id": "executed-bridges",
   "metadata": {},
   "outputs": [
    {
     "name": "stdout",
     "output_type": "stream",
     "text": [
      "[1 2 3 4]\n",
      "<class 'list'>\n",
      "<class 'numpy.ndarray'>\n",
      "(5,)\n",
      "[1 3 5 7 9]\n"
     ]
    }
   ],
   "source": [
    "# List 로 ndarray 만들기 : np.array()\n",
    "import numpy as np\n",
    "a = np.array([1,2,3,4])   # List : item 들이 콤마로 구분되어있음\n",
    "print(a)\n",
    "data = [1,3,5,7,9]\n",
    "b = np.array(data)      # 1차원 array 생성. ndarray type 객체\n",
    "print(type(data))\n",
    "print(type(b))\n",
    "print(b.shape)\n",
    "print(b)"
   ]
  },
  {
   "cell_type": "code",
   "execution_count": 6,
   "id": "nuclear-beast",
   "metadata": {},
   "outputs": [
    {
     "name": "stdout",
     "output_type": "stream",
     "text": [
      "(2, 3)\n",
      "[1 2 3]\n",
      "[4 5 6]\n",
      "1\n",
      "6\n",
      "[[1 2 3]\n",
      " [4 5 6]]\n"
     ]
    }
   ],
   "source": [
    "# ndarray로 2d array 생성\n",
    "import numpy as np\n",
    "b = np.array([[1,2,3],[4,5,6]])\n",
    "print(b.shape)\n",
    "print(b[0])\n",
    "print(b[1])\n",
    "print(b[0,0])\n",
    "print(b[1,2])\n",
    "print(b)"
   ]
  },
  {
   "cell_type": "code",
   "execution_count": 7,
   "id": "hawaiian-purple",
   "metadata": {},
   "outputs": [
    {
     "name": "stdout",
     "output_type": "stream",
     "text": [
      "[[0. 0.]\n",
      " [0. 0.]]\n",
      "[[1. 1.]]\n",
      "[[7 7]\n",
      " [7 7]]\n",
      "[[1. 0.]\n",
      " [0. 1.]]\n",
      "[[0.51719915 0.26655689]\n",
      " [0.91821837 0.04039425]]\n"
     ]
    }
   ],
   "source": [
    "# Array 생성하는 여러가지 방법\n",
    "import numpy as np\n",
    "a = np.zeros((2,2))     # 2x2 행렬 filled with zeros\n",
    "print(a)\n",
    "b = np.ones((1,2))      # 1x2 행렬 filled with ones\n",
    "print(b)\n",
    "c = np.full((2,2),7)    # np.full((a,b),c)\n",
    "# constant array(a x b) filled with c\n",
    "print(c)\n",
    "d = np.eye(2)           # np.eye(n) : nxn identity matrix 만들기\n",
    "print(d)\n",
    "e = np.random.random((2,2)) #Create array filled with random values (0~1사이)\n",
    "print(e)"
   ]
  },
  {
   "cell_type": "code",
   "execution_count": 9,
   "id": "documentary-pension",
   "metadata": {},
   "outputs": [
    {
     "name": "stdout",
     "output_type": "stream",
     "text": [
      "[0. 1. 2.]\n",
      "[3 4 5 6]\n",
      "[3 5]\n"
     ]
    }
   ],
   "source": [
    "# numpy.arange (start =0, stop, step=1, dtype)\n",
    "# start (optional, default=0), stop(stop전까지(포함x)), step(optional, default=1)\n",
    "# dtype(optional, default : 입력하는 값의 data type)\n",
    "import numpy as np\n",
    "print(np.arange(3.0))    #default dtype : float\n",
    "print(np.arange(3,7))\n",
    "print(np.arange(3,7,2))"
   ]
  },
  {
   "cell_type": "code",
   "execution_count": 11,
   "id": "previous-tattoo",
   "metadata": {},
   "outputs": [
    {
     "name": "stdout",
     "output_type": "stream",
     "text": [
      "[ 5.          5.10204082  5.20408163  5.30612245  5.40816327  5.51020408\n",
      "  5.6122449   5.71428571  5.81632653  5.91836735  6.02040816  6.12244898\n",
      "  6.2244898   6.32653061  6.42857143  6.53061224  6.63265306  6.73469388\n",
      "  6.83673469  6.93877551  7.04081633  7.14285714  7.24489796  7.34693878\n",
      "  7.44897959  7.55102041  7.65306122  7.75510204  7.85714286  7.95918367\n",
      "  8.06122449  8.16326531  8.26530612  8.36734694  8.46938776  8.57142857\n",
      "  8.67346939  8.7755102   8.87755102  8.97959184  9.08163265  9.18367347\n",
      "  9.28571429  9.3877551   9.48979592  9.59183673  9.69387755  9.79591837\n",
      "  9.89795918 10.        ]\n",
      "[2.   2.25 2.5  2.75 3.  ]\n"
     ]
    }
   ],
   "source": [
    "# linspace(start, stop, num = 50, endpoint = True, dtype)\n",
    "# num (optional, default = 50), endpoint (optional, stop값을 output에 포함시킬지)\n",
    "# dtype (optional, default = float)\n",
    "# [start~stop] 구간내에 num개 균일한 간격의 값을 가지는 array생성\n",
    "y = np.linspace(5,10)   # [5~10], 50 points, 10(end) included, dtype = float\n",
    "print(y)\n",
    "z = np.linspace(2,3,5)   #[2~3], 5 points, 3 (end) included, dtype = float\n",
    "print(z)"
   ]
  },
  {
   "cell_type": "code",
   "execution_count": 16,
   "id": "freelance-bidder",
   "metadata": {},
   "outputs": [
    {
     "name": "stdout",
     "output_type": "stream",
     "text": [
      "[1. 2. 3. 4.]\n",
      "[1 2 3 4]\n"
     ]
    }
   ],
   "source": [
    "test_array = np.linspace(start = 1, stop = 5, num=4, endpoint = False)\n",
    "print(test_array)\n",
    "test_array2 = np.linspace(start=1, stop=5, num=4, endpoint = False, dtype = int)\n",
    "print(test_array2)"
   ]
  },
  {
   "cell_type": "code",
   "execution_count": 17,
   "id": "thermal-evans",
   "metadata": {},
   "outputs": [
    {
     "name": "stdout",
     "output_type": "stream",
     "text": [
      "[1.  1.1 1.2 1.3 1.4 1.5 1.6 1.7 1.8 1.9]\n",
      "[1.  1.1 1.2 1.3 1.4 1.5 1.6 1.7 1.8 1.9 2. ]\n"
     ]
    }
   ],
   "source": [
    "#  difference between arange(), linspace()\n",
    "import numpy as np\n",
    "a = np.arange(1,2,0.1)\n",
    "b = np.linspace(1,2,11)  #endpoint = 2 included\n",
    "print(a)\n",
    "print(b)"
   ]
  },
  {
   "cell_type": "code",
   "execution_count": 23,
   "id": "extensive-favorite",
   "metadata": {},
   "outputs": [
    {
     "name": "stdout",
     "output_type": "stream",
     "text": [
      "1.4142135623730951\n",
      "3.141592653589793\n",
      "0.0\n",
      "-1.0\n",
      "[0.80533516 0.5546494  0.02728735 0.92888261 0.66763466]\n",
      "<class 'numpy.ndarray'>\n"
     ]
    }
   ],
   "source": [
    "# NumPy Library\n",
    "import numpy as np\n",
    "print(np.sqrt(2))     #제곱근 : np.sqrt()\n",
    "print(np.pi)          # 파이 : np.pi\n",
    "print(np.sin(0))      # sin함수: np.sin()\n",
    "print(np.cos(np.pi))   # cos 함수 : np.cos()\n",
    "a = np.random.rand(5)  # 0과 1사이의 n개의 uniform distribution 값을 return\n",
    "# np.random.random((2,2))와 다르다... (이건 random value ndarray 만드는 것)\n",
    "print(a)\n",
    "print(type(a))\n"
   ]
  },
  {
   "cell_type": "code",
   "execution_count": 27,
   "id": "grateful-mattress",
   "metadata": {},
   "outputs": [
    {
     "name": "stdout",
     "output_type": "stream",
     "text": [
      "[3 3 0 5 4 3 5 5 3 0]\n",
      "[1 9 0 6 7 2]\n"
     ]
    }
   ],
   "source": [
    "# numpy.random.choice(a, size = None, replace = True, p = None)\n",
    "# 모집단으로부터 임의 sampling\n",
    "# a 값이 주어지면 np.arange(a) 결과와 동일한 모집단 array가 생성\n",
    "# size : sample size\n",
    "# replace : True(중복 추출 가능), False (비복원 추출)\n",
    "# p = 각 entry가 선택될 확률값을 나타내는 1d array. if None : 균일 확률\n",
    "import numpy as np\n",
    "print(np.random.choice(6,10))\n",
    "# [0,1,2,3,4,5] 모집단에서 10개의 균등확률표본, 복원 추출\n",
    "\n",
    "print(np.random.choice(10,6, replace = False))\n",
    "#[0,1,2,3,..., 9] 에서 6개의 균등확률 표본, 비복원추출\n",
    "\n",
    "#if 모집단 원소 갯수보다 많은 수의 샘플을 비복원 추출하면(replace = False) : ValueError\n",
    "# 중복되지 않은 샘플 갯수를 뽑아야하는데 원소 갯수보다 크면 불가..."
   ]
  },
  {
   "cell_type": "code",
   "execution_count": 32,
   "id": "apparent-plant",
   "metadata": {},
   "outputs": [
    {
     "name": "stdout",
     "output_type": "stream",
     "text": [
      "[0 0 2 1 3 5 1 4 3 5]\n"
     ]
    }
   ],
   "source": [
    "# np.random.choice()함수에서 확률 p값을 주기\n",
    "import numpy as np\n",
    "print(np.random.choice(6,10, p = [0.1,0.2, 0.3, 0.2, 0.1, 0.1]))\n",
    "# p 가 하나의 표본 데이터 내에서의 선택확률을 의미하지는 않다...\n",
    "\n",
    "# 1. 모집단 (a)의 원소갯수와 p의 원소갯수가 다르면 ValueError\n",
    "# 2. p 원소의 전체합이 1이 아닌 경우 ValueError\n",
    "# 3. p는 확률값이기 때문에 p의 원소값이 0과 1사이가 아니면 ValueError"
   ]
  },
  {
   "cell_type": "code",
   "execution_count": 46,
   "id": "completed-observer",
   "metadata": {},
   "outputs": [
    {
     "name": "stdout",
     "output_type": "stream",
     "text": [
      "['durian' 'grapes' 'cherries']\n"
     ]
    }
   ],
   "source": [
    "import numpy as np\n",
    "# can also randomly sample from 1-d array-like objects\n",
    "fruits = ['apple', 'banana', 'cherries', 'durian', 'grapes', 'lemon','mango']\n",
    "p = [0.1, 0, 0.2, 0.5, 0.1, 0.05, 0.05]\n",
    "fruit_choice = np.random.choice(fruits, 3, p=p, replace=False)\n",
    "print(fruit_choice)"
   ]
  },
  {
   "cell_type": "code",
   "execution_count": 49,
   "id": "delayed-prophet",
   "metadata": {},
   "outputs": [
    {
     "name": "stdout",
     "output_type": "stream",
     "text": [
      "[2, 4, 6]\n",
      "[2 4 6]\n"
     ]
    }
   ],
   "source": [
    "# Numpy Array 연산\n",
    "# Using List, for\n",
    "data = [1,2,3]\n",
    "a = []\n",
    "for i in data:\n",
    "    a.append(2*i)\n",
    "print(a)\n",
    "# Using Numpy Array, Vector function\n",
    "data = [1,2,3]\n",
    "a = np.array(data)\n",
    "a = 2*a\n",
    "print(a)"
   ]
  },
  {
   "cell_type": "code",
   "execution_count": 50,
   "id": "knowing-session",
   "metadata": {},
   "outputs": [
    {
     "name": "stdout",
     "output_type": "stream",
     "text": [
      "[5. 5. 5. 5. 5. 5. 5. 5. 5. 5.]\n"
     ]
    }
   ],
   "source": [
    "# numpy array 에 값을 한번에 더하기\n",
    "import numpy as np\n",
    "a = np.zeros(10) + 5   #zeros() 는 dtype=float로 생성한다.\n",
    "print(a)"
   ]
  },
  {
   "cell_type": "code",
   "execution_count": 51,
   "id": "spatial-freight",
   "metadata": {},
   "outputs": [
    {
     "name": "stdout",
     "output_type": "stream",
     "text": [
      "[1.         1.04880885 1.09544512 1.14017543 1.18321596 1.22474487\n",
      " 1.26491106 1.30384048 1.34164079 1.37840488 1.41421356]\n"
     ]
    }
   ],
   "source": [
    "# numpy array에 함수 적용\n",
    "import numpy as np\n",
    "a = np.linspace(1,2,11)\n",
    "print(np.sqrt(a))"
   ]
  },
  {
   "cell_type": "code",
   "execution_count": 53,
   "id": "rapid-slovenia",
   "metadata": {},
   "outputs": [
    {
     "name": "stdout",
     "output_type": "stream",
     "text": [
      "[12 24 36]\n",
      "[False  True False]\n",
      "[ True  True  True]\n",
      "[False  True False]\n"
     ]
    }
   ],
   "source": [
    "# numpy array 산술/논리 연산\n",
    "a = np.array([1,2,3])\n",
    "b = np.array([10,20,30])\n",
    "print(2*a + b)\n",
    "\n",
    "print(a==2)    # 논리연산을 할 때에는 array의 각 원소들에 대한 모든 논리 비교 후 array로 return\n",
    "print(b>0)\n",
    "print((a==2)&(b>10))"
   ]
  },
  {
   "cell_type": "code",
   "execution_count": 55,
   "id": "great-geology",
   "metadata": {},
   "outputs": [
    {
     "name": "stdout",
     "output_type": "stream",
     "text": [
      "[5 7 9]\n",
      "[-3 -3 -3]\n",
      "[ 4 10 18]\n",
      "[0.25 0.4  0.5 ]\n"
     ]
    }
   ],
   "source": [
    "# numpy array 간의 연산 수행\n",
    "a = np.array([1,2,3])\n",
    "b = np.array([4,5,6])\n",
    "#각 원소끼리 연산을 수행함\n",
    "c = np.add(a,b)\n",
    "print(c)\n",
    "d = np.subtract(a,b)\n",
    "print(d)\n",
    "e = np.multiply(a,b)\n",
    "print(e)\n",
    "f = np.divide(a,b)\n",
    "print(f)"
   ]
  },
  {
   "cell_type": "code",
   "execution_count": 57,
   "id": "regular-grass",
   "metadata": {},
   "outputs": [
    {
     "name": "stdout",
     "output_type": "stream",
     "text": [
      "10\n",
      "[4 6]\n",
      "[3 7]\n",
      "24\n"
     ]
    }
   ],
   "source": [
    "a = np.array([[1,2],[3,4]])\n",
    "s = np.sum(a)    #np.sum() : array의 모든 원소들을 합함.\n",
    "print(s)\n",
    "# np.sum()에 axis=0 or 1 선택 옵션을 추가할 수 있는데, axis ==0 : 열끼리 연산, axis==1 : 행끼리 연산\n",
    "# axis (default= None) : 모든 element에 대해 연산 (값 return)\n",
    "s = np.sum(a, axis=0)\n",
    "print(s)\n",
    "s = np.sum(a, axis=1)\n",
    "print(s)\n",
    "s = np.prod(a)     # np.prod() : array 의 요소들끼리 곱하는 것. axis 옵션은 sum때와 동일\n",
    "print(s)"
   ]
  },
  {
   "cell_type": "code",
   "execution_count": 58,
   "id": "unauthorized-dispute",
   "metadata": {},
   "outputs": [
    {
     "name": "stdout",
     "output_type": "stream",
     "text": [
      "2 4\n",
      "[2 3 4]\n"
     ]
    }
   ],
   "source": [
    "# numpy array의 indexing, slicing\n",
    "import numpy as np\n",
    "a = np.array([1,2,3,4])\n",
    "print(a[1], a[-1])\n",
    "print(a[1:])"
   ]
  },
  {
   "cell_type": "code",
   "execution_count": 66,
   "id": "fancy-chosen",
   "metadata": {},
   "outputs": [
    {
     "name": "stdout",
     "output_type": "stream",
     "text": [
      "[[1 2 3]\n",
      " [5 6 7]]\n",
      "[[ 5  6  7  8 10]\n",
      " [11 12 13 14 15]]\n",
      "[[ 8 10]\n",
      " [14 15]]\n"
     ]
    }
   ],
   "source": [
    "import numpy as np\n",
    "# slicing\n",
    "data = [\n",
    "    [1,2,3,4,5],\n",
    "    [5,6,7,8,10],\n",
    "    [11,12,13,14,15]\n",
    "]\n",
    "a = np.array(data)\n",
    "s1 = a[ 0:2, 0:3 ]    #0,1행 , 0,1,2 열\n",
    "print(s1)\n",
    "\n",
    "s2 = a[1:, 0:]    # 1~행, 모든 열\n",
    "print(s2)\n",
    "\n",
    "s3 = a[1:, 3:]    # 1,2행, 3,4열\n",
    "print(s3)"
   ]
  },
  {
   "cell_type": "code",
   "execution_count": 67,
   "id": "smoking-control",
   "metadata": {},
   "outputs": [
    {
     "name": "stdout",
     "output_type": "stream",
     "text": [
      "[ 2 15]\n"
     ]
    }
   ],
   "source": [
    "a = np.array(data)\n",
    "s = a[[0,2], [1,4]]     #인덱스로 구성된 sub-array 구성\n",
    "# a[[row index list], [column index list]]\n",
    "# s = [[0,1], [2,4]]\n",
    "print(s)"
   ]
  },
  {
   "cell_type": "code",
   "execution_count": 68,
   "id": "excessive-wayne",
   "metadata": {},
   "outputs": [
    {
     "name": "stdout",
     "output_type": "stream",
     "text": [
      "[2 4 6 8]\n"
     ]
    }
   ],
   "source": [
    "# Boolean indexing!!\n",
    "data = [[1,2,3],\n",
    "       [4,5,6],\n",
    "       [7,8,9]]\n",
    "a = np.array(data)\n",
    "bool_i = np.array([\n",
    "    [False, True, False],\n",
    "    [True, False, True],\n",
    "    [False, True, False]\n",
    "])\n",
    "b = a[bool_i]   #boolean array값에 따라 masking!!\n",
    "print(b)"
   ]
  },
  {
   "cell_type": "code",
   "execution_count": 70,
   "id": "computational-terrain",
   "metadata": {},
   "outputs": [
    {
     "name": "stdout",
     "output_type": "stream",
     "text": [
      "***boolean indexing array : bool_i ***\n",
      "[[False  True False]\n",
      " [ True False  True]\n",
      " [False  True False]]\n",
      "*** 짝수만 선택 ***\n",
      "[2 4 6 8]\n",
      "\n",
      "\n",
      "*** 짝수만 선택 v2 ***\n",
      "[2 4 6 8]\n"
     ]
    }
   ],
   "source": [
    "#Filtering array\n",
    "data = [[1,2,3],\n",
    "        [4,5,6],\n",
    "        [7,8,9]\n",
    "       ]\n",
    "a = np.array(data)\n",
    "bool_i = (a%2==0)        # array a 에 대해 원소가 짝수이면 True, else:False\n",
    "print(\"***boolean indexing array : bool_i ***\")\n",
    "print(bool_i)\n",
    "print(\"*** 짝수만 선택 ***\")\n",
    "print(a[bool_i])        # Masking\n",
    "print('\\n')\n",
    "\n",
    "#Simpler Way\n",
    "b = a[a%2==0]\n",
    "print(\"*** 짝수만 선택 v2 ***\")\n",
    "print(b)"
   ]
  },
  {
   "cell_type": "code",
   "execution_count": null,
   "id": "compliant-cotton",
   "metadata": {},
   "outputs": [],
   "source": []
  }
 ],
 "metadata": {
  "kernelspec": {
   "display_name": "Python 3",
   "language": "python",
   "name": "python3"
  },
  "language_info": {
   "codemirror_mode": {
    "name": "ipython",
    "version": 3
   },
   "file_extension": ".py",
   "mimetype": "text/x-python",
   "name": "python",
   "nbconvert_exporter": "python",
   "pygments_lexer": "ipython3",
   "version": "3.9.2"
  }
 },
 "nbformat": 4,
 "nbformat_minor": 5
}
