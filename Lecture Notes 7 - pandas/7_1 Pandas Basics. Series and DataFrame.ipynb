{
 "cells": [
  {
   "cell_type": "code",
   "execution_count": 3,
   "id": "missing-leave",
   "metadata": {},
   "outputs": [
    {
     "name": "stdout",
     "output_type": "stream",
     "text": [
      "0    1\n",
      "1    3\n",
      "2    5\n",
      "3    7\n",
      "4    9\n",
      "dtype: int64\n"
     ]
    }
   ],
   "source": [
    "# Series (index가 있는 1차원 배열(vector) 형태)\n",
    "# Sequence type data를 받아서 index가 있는 객체 생성 (ndarray와 거의 유사)\n",
    "import pandas as pd\n",
    "data = [1,3,5,7,9]\n",
    "s = pd.Series(data)    # index : default값 (0부터 시작하는 integer type)\n",
    "print(s)"
   ]
  },
  {
   "cell_type": "code",
   "execution_count": 5,
   "id": "sensitive-oxygen",
   "metadata": {},
   "outputs": [
    {
     "name": "stdout",
     "output_type": "stream",
     "text": [
      "영희     1\n",
      "순희     3\n",
      "길동     5\n",
      "지성     7\n",
      "Bob    9\n",
      "dtype: int64\n",
      "[1 3 5 7 9]\n",
      "Index(['영희', '순희', '길동', '지성', 'Bob'], dtype='object')\n"
     ]
    }
   ],
   "source": [
    "# index label 을 지정해서 Sereis 생성 가능\n",
    "import pandas as pd\n",
    "data = [1,3,5,7,9]\n",
    "s = pd.Series(data, index = ['영희', '순희', '길동','지성','Bob'])\n",
    "# 직접 index label 지정 가능\n",
    "print(s)\n",
    "\n",
    "# Series의 속성으로 data access rksmd\n",
    "print(s.values)   # access values\n",
    "print(s.index)    # access index (dtype = index type)"
   ]
  },
  {
   "cell_type": "code",
   "execution_count": 6,
   "id": "foreign-palace",
   "metadata": {},
   "outputs": [
    {
     "name": "stdout",
     "output_type": "stream",
     "text": [
      "   year  GDP rate    GDP\n",
      "0  2016       2.8  1.63M\n",
      "1  2017       3.1  1.73M\n",
      "2  2018       3.0  1.83M\n"
     ]
    }
   ],
   "source": [
    "# DataFrame (2d array: consist of row, col, index(immutable))\n",
    "# Dictionary type data => DataFrame\n",
    "import pandas as pd\n",
    "g_data = {'year':[2016, 2017,2018], 'GDP rate':[2.8, 3.1, 3.0], 'GDP':['1.63M', '1.73M', '1.83M']}\n",
    "df = pd.DataFrame(g_data)    # df = pd.DataFrame(data = g_data, index = default)\n",
    "print(df)\n",
    "# consist of 3 column (year, GDP rate, GDP)\n",
    "# consists of 3 series (default integer index + col value)"
   ]
  },
  {
   "cell_type": "code",
   "execution_count": 10,
   "id": "strategic-spokesman",
   "metadata": {},
   "outputs": [
    {
     "name": "stdout",
     "output_type": "stream",
     "text": [
      "***** df1 *****\n",
      "   0  1  2\n",
      "0  1  2  3\n",
      "1  4  5  6 \n",
      "\n",
      "***** df2 *****\n",
      "               city\n",
      "England      London\n",
      "India     New Delhi\n",
      "USA      Washington\n",
      "Belgium    Brussels \n",
      "\n",
      "***** df3 *****\n",
      "   A\n",
      "0  6\n",
      "1  7\n",
      "2  8 \n",
      "\n"
     ]
    }
   ],
   "source": [
    "import numpy as np\n",
    "import pandas as pd\n",
    "\n",
    "#2차원 array (ndarray) 객체 사용\n",
    "input1 = np.array([[1,2,3],[4,5,6]])\n",
    "df1 = pd.DataFrame(input1)  #default index (행/열 index both default)\n",
    "print(\"***** df1 *****\")\n",
    "print(df1,'\\n')\n",
    "\n",
    "#Series 객체 사용\n",
    "# dict type data -> Series type data -> DataFrame\n",
    "input2 = pd.Series({'England': 'London', 'India':'New Delhi', 'USA':'Washington','Belgium':'Brussels'})\n",
    "# dict type을 series로 만들때, key에 해당하는 부분이 series의 index로 들어감\n",
    "df2 = pd.DataFrame(data = input2, columns = ['city'])\n",
    "# index : dictionary data의 key값들, 1번째 column의 index : 'city'로 지정\n",
    "print(\"***** df2 *****\")\n",
    "print(df2, '\\n')\n",
    "\n",
    "#DataFrame 객체 사용  (mapping)\n",
    "input3 = pd.DataFrame(data =[6,7,8], index = range(0,3), columns=['A'])\n",
    "df3 = pd.DataFrame(input3)\n",
    "print(\"***** df3 *****\")\n",
    "print(df3,'\\n')\n"
   ]
  },
  {
   "cell_type": "code",
   "execution_count": 11,
   "id": "advance-mobility",
   "metadata": {},
   "outputs": [
    {
     "name": "stdout",
     "output_type": "stream",
     "text": [
      "DatetimeIndex(['2000-01-01', '2000-01-02', '2000-01-03', '2000-01-04',\n",
      "               '2000-01-05', '2000-01-06', '2000-01-07', '2000-01-08'],\n",
      "              dtype='datetime64[ns]', freq='D')\n"
     ]
    }
   ],
   "source": [
    "# Making index for DataFrame\n",
    "import pandas as pd\n",
    "index = pd.date_range(\"1/1/2000\", periods = 8)\n",
    "print(index)\n",
    "# pandas.date_range(start=None, end = None, periods=None, freq = None, tz = None, normalize = False, name = None, closed = None, **kwargs)\n",
    "# fixed frequency DatetimeIndex 객체를 만들어서 반환"
   ]
  },
  {
   "cell_type": "code",
   "execution_count": 16,
   "id": "configured-excerpt",
   "metadata": {},
   "outputs": [
    {
     "name": "stdout",
     "output_type": "stream",
     "text": [
      "DatetimeIndex(['2018-01-01', '2018-01-02', '2018-01-03', '2018-01-04',\n",
      "               '2018-01-05', '2018-01-06', '2018-01-07', '2018-01-08'],\n",
      "              dtype='datetime64[ns]', freq='D')\n",
      "DatetimeIndex(['2018-01-01', '2018-01-02', '2018-01-03', '2018-01-04',\n",
      "               '2018-01-05', '2018-01-06', '2018-01-07', '2018-01-08'],\n",
      "              dtype='datetime64[ns]', freq='D')\n",
      "DatetimeIndex(['2017-12-25', '2017-12-26', '2017-12-27', '2017-12-28',\n",
      "               '2017-12-29', '2017-12-30', '2017-12-31', '2018-01-01'],\n",
      "              dtype='datetime64[ns]', freq='D')\n",
      "DatetimeIndex(['2018-04-24 00:00:00', '2018-04-25 12:00:00',\n",
      "               '2018-04-27 00:00:00'],\n",
      "              dtype='datetime64[ns]', freq=None)\n"
     ]
    }
   ],
   "source": [
    "# pandas.date_range() 중요함!!\n",
    "# start, end, periods, freq (총 네 개의 parameter) 중 정확히 세 개가 specified 되어야함\n",
    "# freq = 디폴트값으로 'D' 값, 즉 day 단위의 frequency를 갖는다 (freq 생략 후에도 나머지중 두개가 specify? 가능)\n",
    "# 1.specify start and end\n",
    "dr1 = pd.date_range(start = \"1/1/2018\", end = '1/08/2018')\n",
    "# 2. specify start and periods(day)  frequency는 생략되어있지만 기본적으로 'D'\n",
    "dr2 = pd.date_range(start = '1/1/2018', periods = 8)\n",
    "# 3. specify end and periods\n",
    "dr3 = pd.date_range(end = '1/1/2018', periods = 8)\n",
    "\n",
    "# 4. specify start, end, period. (3)  -> frequency 제외하고 이미 3개!! - closed on both (start, end)\n",
    "# frequency가 빠짐(Set to None)-> 결과적으로 linearly spaced elements (균등하게 나눔-> 양쪽 포함)\n",
    "dr4 = pd.date_range(start = '2018-04-24', end = '2018-04-27', periods = 3)\n",
    "print(dr1)\n",
    "print(dr2)\n",
    "print(dr3)\n",
    "print(dr4)"
   ]
  },
  {
   "cell_type": "code",
   "execution_count": 17,
   "id": "specialized-cholesterol",
   "metadata": {},
   "outputs": [
    {
     "name": "stdout",
     "output_type": "stream",
     "text": [
      "DatetimeIndex(['2000-01-01', '2000-01-02', '2000-01-03', '2000-01-04',\n",
      "               '2000-01-05', '2000-01-06', '2000-01-07', '2000-01-08'],\n",
      "              dtype='datetime64[ns]', freq='D')\n"
     ]
    }
   ],
   "source": [
    "import pandas as pd\n",
    "index = pd.date_range('1/1/2000', periods = 8) #freq : default ('D')\n",
    "# datetime index를 만들때 datetime = datetime64[ns]\n",
    "print(index)"
   ]
  },
  {
   "cell_type": "code",
   "execution_count": 20,
   "id": "oriental-alliance",
   "metadata": {},
   "outputs": [
    {
     "data": {
      "text/html": [
       "<div>\n",
       "<style scoped>\n",
       "    .dataframe tbody tr th:only-of-type {\n",
       "        vertical-align: middle;\n",
       "    }\n",
       "\n",
       "    .dataframe tbody tr th {\n",
       "        vertical-align: top;\n",
       "    }\n",
       "\n",
       "    .dataframe thead th {\n",
       "        text-align: right;\n",
       "    }\n",
       "</style>\n",
       "<table border=\"1\" class=\"dataframe\">\n",
       "  <thead>\n",
       "    <tr style=\"text-align: right;\">\n",
       "      <th></th>\n",
       "      <th>A</th>\n",
       "      <th>B</th>\n",
       "      <th>C</th>\n",
       "    </tr>\n",
       "  </thead>\n",
       "  <tbody>\n",
       "    <tr>\n",
       "      <th>2000-01-01</th>\n",
       "      <td>0.998562</td>\n",
       "      <td>0.038990</td>\n",
       "      <td>0.030460</td>\n",
       "    </tr>\n",
       "    <tr>\n",
       "      <th>2000-01-02</th>\n",
       "      <td>0.331402</td>\n",
       "      <td>0.652236</td>\n",
       "      <td>0.968883</td>\n",
       "    </tr>\n",
       "    <tr>\n",
       "      <th>2000-01-03</th>\n",
       "      <td>0.542146</td>\n",
       "      <td>0.106039</td>\n",
       "      <td>0.111943</td>\n",
       "    </tr>\n",
       "    <tr>\n",
       "      <th>2000-01-04</th>\n",
       "      <td>0.254604</td>\n",
       "      <td>0.713055</td>\n",
       "      <td>0.185276</td>\n",
       "    </tr>\n",
       "    <tr>\n",
       "      <th>2000-01-05</th>\n",
       "      <td>0.034618</td>\n",
       "      <td>0.336168</td>\n",
       "      <td>0.453230</td>\n",
       "    </tr>\n",
       "    <tr>\n",
       "      <th>2000-01-06</th>\n",
       "      <td>0.051746</td>\n",
       "      <td>0.753323</td>\n",
       "      <td>0.222648</td>\n",
       "    </tr>\n",
       "    <tr>\n",
       "      <th>2000-01-07</th>\n",
       "      <td>0.067872</td>\n",
       "      <td>0.505266</td>\n",
       "      <td>0.947865</td>\n",
       "    </tr>\n",
       "    <tr>\n",
       "      <th>2000-01-08</th>\n",
       "      <td>0.900961</td>\n",
       "      <td>0.393648</td>\n",
       "      <td>0.666667</td>\n",
       "    </tr>\n",
       "  </tbody>\n",
       "</table>\n",
       "</div>"
      ],
      "text/plain": [
       "                   A         B         C\n",
       "2000-01-01  0.998562  0.038990  0.030460\n",
       "2000-01-02  0.331402  0.652236  0.968883\n",
       "2000-01-03  0.542146  0.106039  0.111943\n",
       "2000-01-04  0.254604  0.713055  0.185276\n",
       "2000-01-05  0.034618  0.336168  0.453230\n",
       "2000-01-06  0.051746  0.753323  0.222648\n",
       "2000-01-07  0.067872  0.505266  0.947865\n",
       "2000-01-08  0.900961  0.393648  0.666667"
      ]
     },
     "execution_count": 20,
     "metadata": {},
     "output_type": "execute_result"
    }
   ],
   "source": [
    "import numpy as np\n",
    "df = pd.DataFrame(np.random.rand(8,3), index = index, columns = list('ABC'))\n",
    "# randome.rand(8,3) : (0,1)구간의 임의 실수로 8행 3열 ndarray\n",
    "# index 는 이전 코드 예제에서 생성 index\n",
    "df"
   ]
  },
  {
   "cell_type": "code",
   "execution_count": 21,
   "id": "alien-tattoo",
   "metadata": {},
   "outputs": [
    {
     "name": "stdout",
     "output_type": "stream",
     "text": [
      "2000-01-01    0.038990\n",
      "2000-01-02    0.652236\n",
      "2000-01-03    0.106039\n",
      "2000-01-04    0.713055\n",
      "2000-01-05    0.336168\n",
      "2000-01-06    0.753323\n",
      "2000-01-07    0.505266\n",
      "2000-01-08    0.393648\n",
      "Freq: D, Name: B, dtype: float64\n"
     ]
    }
   ],
   "source": [
    "# masking 적용.\n",
    "print(df['B']) #이전 df  data 구조에서 column B에만 access, print"
   ]
  },
  {
   "cell_type": "code",
   "execution_count": 23,
   "id": "distinguished-national",
   "metadata": {},
   "outputs": [
    {
     "name": "stdout",
     "output_type": "stream",
     "text": [
      "2000-01-01    False\n",
      "2000-01-02     True\n",
      "2000-01-03    False\n",
      "2000-01-04     True\n",
      "2000-01-05    False\n",
      "2000-01-06     True\n",
      "2000-01-07     True\n",
      "2000-01-08    False\n",
      "Freq: D, Name: B, dtype: bool\n"
     ]
    }
   ],
   "source": [
    "print(df['B']>0.4)"
   ]
  },
  {
   "cell_type": "code",
   "execution_count": 24,
   "id": "funky-event",
   "metadata": {},
   "outputs": [
    {
     "data": {
      "text/html": [
       "<div>\n",
       "<style scoped>\n",
       "    .dataframe tbody tr th:only-of-type {\n",
       "        vertical-align: middle;\n",
       "    }\n",
       "\n",
       "    .dataframe tbody tr th {\n",
       "        vertical-align: top;\n",
       "    }\n",
       "\n",
       "    .dataframe thead th {\n",
       "        text-align: right;\n",
       "    }\n",
       "</style>\n",
       "<table border=\"1\" class=\"dataframe\">\n",
       "  <thead>\n",
       "    <tr style=\"text-align: right;\">\n",
       "      <th></th>\n",
       "      <th>A</th>\n",
       "      <th>B</th>\n",
       "      <th>C</th>\n",
       "    </tr>\n",
       "  </thead>\n",
       "  <tbody>\n",
       "    <tr>\n",
       "      <th>2000-01-02</th>\n",
       "      <td>0.331402</td>\n",
       "      <td>0.652236</td>\n",
       "      <td>0.968883</td>\n",
       "    </tr>\n",
       "    <tr>\n",
       "      <th>2000-01-04</th>\n",
       "      <td>0.254604</td>\n",
       "      <td>0.713055</td>\n",
       "      <td>0.185276</td>\n",
       "    </tr>\n",
       "    <tr>\n",
       "      <th>2000-01-06</th>\n",
       "      <td>0.051746</td>\n",
       "      <td>0.753323</td>\n",
       "      <td>0.222648</td>\n",
       "    </tr>\n",
       "    <tr>\n",
       "      <th>2000-01-07</th>\n",
       "      <td>0.067872</td>\n",
       "      <td>0.505266</td>\n",
       "      <td>0.947865</td>\n",
       "    </tr>\n",
       "  </tbody>\n",
       "</table>\n",
       "</div>"
      ],
      "text/plain": [
       "                   A         B         C\n",
       "2000-01-02  0.331402  0.652236  0.968883\n",
       "2000-01-04  0.254604  0.713055  0.185276\n",
       "2000-01-06  0.051746  0.753323  0.222648\n",
       "2000-01-07  0.067872  0.505266  0.947865"
      ]
     },
     "execution_count": 24,
     "metadata": {},
     "output_type": "execute_result"
    }
   ],
   "source": [
    "df2 = df[df['B']>0.4]\n",
    "df2"
   ]
  },
  {
   "cell_type": "code",
   "execution_count": 25,
   "id": "outdoor-relation",
   "metadata": {},
   "outputs": [
    {
     "data": {
      "text/html": [
       "<div>\n",
       "<style scoped>\n",
       "    .dataframe tbody tr th:only-of-type {\n",
       "        vertical-align: middle;\n",
       "    }\n",
       "\n",
       "    .dataframe tbody tr th {\n",
       "        vertical-align: top;\n",
       "    }\n",
       "\n",
       "    .dataframe thead th {\n",
       "        text-align: right;\n",
       "    }\n",
       "</style>\n",
       "<table border=\"1\" class=\"dataframe\">\n",
       "  <thead>\n",
       "    <tr style=\"text-align: right;\">\n",
       "      <th></th>\n",
       "      <th>2000-01-02</th>\n",
       "      <th>2000-01-04</th>\n",
       "      <th>2000-01-06</th>\n",
       "      <th>2000-01-07</th>\n",
       "    </tr>\n",
       "  </thead>\n",
       "  <tbody>\n",
       "    <tr>\n",
       "      <th>A</th>\n",
       "      <td>0.331402</td>\n",
       "      <td>0.254604</td>\n",
       "      <td>0.051746</td>\n",
       "      <td>0.067872</td>\n",
       "    </tr>\n",
       "    <tr>\n",
       "      <th>B</th>\n",
       "      <td>0.652236</td>\n",
       "      <td>0.713055</td>\n",
       "      <td>0.753323</td>\n",
       "      <td>0.505266</td>\n",
       "    </tr>\n",
       "    <tr>\n",
       "      <th>C</th>\n",
       "      <td>0.968883</td>\n",
       "      <td>0.185276</td>\n",
       "      <td>0.222648</td>\n",
       "      <td>0.947865</td>\n",
       "    </tr>\n",
       "  </tbody>\n",
       "</table>\n",
       "</div>"
      ],
      "text/plain": [
       "   2000-01-02  2000-01-04  2000-01-06  2000-01-07\n",
       "A    0.331402    0.254604    0.051746    0.067872\n",
       "B    0.652236    0.713055    0.753323    0.505266\n",
       "C    0.968883    0.185276    0.222648    0.947865"
      ]
     },
     "execution_count": 25,
     "metadata": {},
     "output_type": "execute_result"
    }
   ],
   "source": [
    "# DataFrame Type data 의 경우 df.T를 통해 행과 열이 transpose된 행렬\n",
    "df2.T"
   ]
  },
  {
   "cell_type": "code",
   "execution_count": 26,
   "id": "different-strap",
   "metadata": {},
   "outputs": [
    {
     "data": {
      "text/html": [
       "<div>\n",
       "<style scoped>\n",
       "    .dataframe tbody tr th:only-of-type {\n",
       "        vertical-align: middle;\n",
       "    }\n",
       "\n",
       "    .dataframe tbody tr th {\n",
       "        vertical-align: top;\n",
       "    }\n",
       "\n",
       "    .dataframe thead th {\n",
       "        text-align: right;\n",
       "    }\n",
       "</style>\n",
       "<table border=\"1\" class=\"dataframe\">\n",
       "  <thead>\n",
       "    <tr style=\"text-align: right;\">\n",
       "      <th></th>\n",
       "      <th>A</th>\n",
       "      <th>B</th>\n",
       "      <th>C</th>\n",
       "      <th>D</th>\n",
       "    </tr>\n",
       "  </thead>\n",
       "  <tbody>\n",
       "    <tr>\n",
       "      <th>2000-01-01</th>\n",
       "      <td>0.998562</td>\n",
       "      <td>0.038990</td>\n",
       "      <td>0.030460</td>\n",
       "      <td>25.610966</td>\n",
       "    </tr>\n",
       "    <tr>\n",
       "      <th>2000-01-02</th>\n",
       "      <td>0.331402</td>\n",
       "      <td>0.652236</td>\n",
       "      <td>0.968883</td>\n",
       "      <td>0.508101</td>\n",
       "    </tr>\n",
       "    <tr>\n",
       "      <th>2000-01-03</th>\n",
       "      <td>0.542146</td>\n",
       "      <td>0.106039</td>\n",
       "      <td>0.111943</td>\n",
       "      <td>5.112716</td>\n",
       "    </tr>\n",
       "    <tr>\n",
       "      <th>2000-01-04</th>\n",
       "      <td>0.254604</td>\n",
       "      <td>0.713055</td>\n",
       "      <td>0.185276</td>\n",
       "      <td>0.357061</td>\n",
       "    </tr>\n",
       "    <tr>\n",
       "      <th>2000-01-05</th>\n",
       "      <td>0.034618</td>\n",
       "      <td>0.336168</td>\n",
       "      <td>0.453230</td>\n",
       "      <td>0.102980</td>\n",
       "    </tr>\n",
       "    <tr>\n",
       "      <th>2000-01-06</th>\n",
       "      <td>0.051746</td>\n",
       "      <td>0.753323</td>\n",
       "      <td>0.222648</td>\n",
       "      <td>0.068690</td>\n",
       "    </tr>\n",
       "    <tr>\n",
       "      <th>2000-01-07</th>\n",
       "      <td>0.067872</td>\n",
       "      <td>0.505266</td>\n",
       "      <td>0.947865</td>\n",
       "      <td>0.134330</td>\n",
       "    </tr>\n",
       "    <tr>\n",
       "      <th>2000-01-08</th>\n",
       "      <td>0.900961</td>\n",
       "      <td>0.393648</td>\n",
       "      <td>0.666667</td>\n",
       "      <td>2.288750</td>\n",
       "    </tr>\n",
       "  </tbody>\n",
       "</table>\n",
       "</div>"
      ],
      "text/plain": [
       "                   A         B         C          D\n",
       "2000-01-01  0.998562  0.038990  0.030460  25.610966\n",
       "2000-01-02  0.331402  0.652236  0.968883   0.508101\n",
       "2000-01-03  0.542146  0.106039  0.111943   5.112716\n",
       "2000-01-04  0.254604  0.713055  0.185276   0.357061\n",
       "2000-01-05  0.034618  0.336168  0.453230   0.102980\n",
       "2000-01-06  0.051746  0.753323  0.222648   0.068690\n",
       "2000-01-07  0.067872  0.505266  0.947865   0.134330\n",
       "2000-01-08  0.900961  0.393648  0.666667   2.288750"
      ]
     },
     "execution_count": 26,
     "metadata": {},
     "output_type": "execute_result"
    }
   ],
   "source": [
    "df['D'] = df['A']/df['B']   #A열의 값 / B열의 값으로 나눈 값 : D열에 저장\n",
    "df"
   ]
  },
  {
   "cell_type": "code",
   "execution_count": 27,
   "id": "little-fiction",
   "metadata": {},
   "outputs": [
    {
     "data": {
      "text/html": [
       "<div>\n",
       "<style scoped>\n",
       "    .dataframe tbody tr th:only-of-type {\n",
       "        vertical-align: middle;\n",
       "    }\n",
       "\n",
       "    .dataframe tbody tr th {\n",
       "        vertical-align: top;\n",
       "    }\n",
       "\n",
       "    .dataframe thead th {\n",
       "        text-align: right;\n",
       "    }\n",
       "</style>\n",
       "<table border=\"1\" class=\"dataframe\">\n",
       "  <thead>\n",
       "    <tr style=\"text-align: right;\">\n",
       "      <th></th>\n",
       "      <th>A</th>\n",
       "      <th>B</th>\n",
       "      <th>C</th>\n",
       "      <th>D</th>\n",
       "      <th>E</th>\n",
       "    </tr>\n",
       "  </thead>\n",
       "  <tbody>\n",
       "    <tr>\n",
       "      <th>2000-01-01</th>\n",
       "      <td>0.998562</td>\n",
       "      <td>0.038990</td>\n",
       "      <td>0.030460</td>\n",
       "      <td>25.610966</td>\n",
       "      <td>26.678978</td>\n",
       "    </tr>\n",
       "    <tr>\n",
       "      <th>2000-01-02</th>\n",
       "      <td>0.331402</td>\n",
       "      <td>0.652236</td>\n",
       "      <td>0.968883</td>\n",
       "      <td>0.508101</td>\n",
       "      <td>2.460621</td>\n",
       "    </tr>\n",
       "    <tr>\n",
       "      <th>2000-01-03</th>\n",
       "      <td>0.542146</td>\n",
       "      <td>0.106039</td>\n",
       "      <td>0.111943</td>\n",
       "      <td>5.112716</td>\n",
       "      <td>5.872843</td>\n",
       "    </tr>\n",
       "    <tr>\n",
       "      <th>2000-01-04</th>\n",
       "      <td>0.254604</td>\n",
       "      <td>0.713055</td>\n",
       "      <td>0.185276</td>\n",
       "      <td>0.357061</td>\n",
       "      <td>1.509996</td>\n",
       "    </tr>\n",
       "    <tr>\n",
       "      <th>2000-01-05</th>\n",
       "      <td>0.034618</td>\n",
       "      <td>0.336168</td>\n",
       "      <td>0.453230</td>\n",
       "      <td>0.102980</td>\n",
       "      <td>0.926995</td>\n",
       "    </tr>\n",
       "  </tbody>\n",
       "</table>\n",
       "</div>"
      ],
      "text/plain": [
       "                   A         B         C          D          E\n",
       "2000-01-01  0.998562  0.038990  0.030460  25.610966  26.678978\n",
       "2000-01-02  0.331402  0.652236  0.968883   0.508101   2.460621\n",
       "2000-01-03  0.542146  0.106039  0.111943   5.112716   5.872843\n",
       "2000-01-04  0.254604  0.713055  0.185276   0.357061   1.509996\n",
       "2000-01-05  0.034618  0.336168  0.453230   0.102980   0.926995"
      ]
     },
     "execution_count": 27,
     "metadata": {},
     "output_type": "execute_result"
    }
   ],
   "source": [
    "# axis 지정해주기!! (행끼리 연산 or 열끼리 연산)\n",
    "df['E'] = np.sum(df, axis=1) # axis = 1 : 같은 행의 data 를 더하기\n",
    "df.head()       # df.head()의 default:5. 즉 기본으로 5행까지만 출력됨"
   ]
  },
  {
   "cell_type": "code",
   "execution_count": 28,
   "id": "contemporary-raleigh",
   "metadata": {},
   "outputs": [
    {
     "data": {
      "text/html": [
       "<div>\n",
       "<style scoped>\n",
       "    .dataframe tbody tr th:only-of-type {\n",
       "        vertical-align: middle;\n",
       "    }\n",
       "\n",
       "    .dataframe tbody tr th {\n",
       "        vertical-align: top;\n",
       "    }\n",
       "\n",
       "    .dataframe thead th {\n",
       "        text-align: right;\n",
       "    }\n",
       "</style>\n",
       "<table border=\"1\" class=\"dataframe\">\n",
       "  <thead>\n",
       "    <tr style=\"text-align: right;\">\n",
       "      <th></th>\n",
       "      <th>A</th>\n",
       "      <th>B</th>\n",
       "      <th>C</th>\n",
       "      <th>D</th>\n",
       "      <th>E</th>\n",
       "    </tr>\n",
       "  </thead>\n",
       "  <tbody>\n",
       "    <tr>\n",
       "      <th>2000-01-01</th>\n",
       "      <td>0.0</td>\n",
       "      <td>-0.959573</td>\n",
       "      <td>-0.968102</td>\n",
       "      <td>24.612404</td>\n",
       "      <td>25.680416</td>\n",
       "    </tr>\n",
       "    <tr>\n",
       "      <th>2000-01-02</th>\n",
       "      <td>0.0</td>\n",
       "      <td>0.320835</td>\n",
       "      <td>0.637482</td>\n",
       "      <td>0.176699</td>\n",
       "      <td>2.129220</td>\n",
       "    </tr>\n",
       "    <tr>\n",
       "      <th>2000-01-03</th>\n",
       "      <td>0.0</td>\n",
       "      <td>-0.436107</td>\n",
       "      <td>-0.430202</td>\n",
       "      <td>4.570571</td>\n",
       "      <td>5.330698</td>\n",
       "    </tr>\n",
       "    <tr>\n",
       "      <th>2000-01-04</th>\n",
       "      <td>0.0</td>\n",
       "      <td>0.458451</td>\n",
       "      <td>-0.069328</td>\n",
       "      <td>0.102457</td>\n",
       "      <td>1.255392</td>\n",
       "    </tr>\n",
       "    <tr>\n",
       "      <th>2000-01-05</th>\n",
       "      <td>0.0</td>\n",
       "      <td>0.301549</td>\n",
       "      <td>0.418611</td>\n",
       "      <td>0.068361</td>\n",
       "      <td>0.892377</td>\n",
       "    </tr>\n",
       "  </tbody>\n",
       "</table>\n",
       "</div>"
      ],
      "text/plain": [
       "              A         B         C          D          E\n",
       "2000-01-01  0.0 -0.959573 -0.968102  24.612404  25.680416\n",
       "2000-01-02  0.0  0.320835  0.637482   0.176699   2.129220\n",
       "2000-01-03  0.0 -0.436107 -0.430202   4.570571   5.330698\n",
       "2000-01-04  0.0  0.458451 -0.069328   0.102457   1.255392\n",
       "2000-01-05  0.0  0.301549  0.418611   0.068361   0.892377"
      ]
     },
     "execution_count": 28,
     "metadata": {},
     "output_type": "execute_result"
    }
   ],
   "source": [
    "# 모든 열의 값에서 A열값을 빼기\n",
    "df = df.sub(df['A'], axis =0)  # A형 데이터를 기준으로 열에 대해 우선 계산\n",
    "df.head()   # 5행까지 출력"
   ]
  },
  {
   "cell_type": "code",
   "execution_count": 29,
   "id": "searching-benchmark",
   "metadata": {},
   "outputs": [
    {
     "data": {
      "text/html": [
       "<div>\n",
       "<style scoped>\n",
       "    .dataframe tbody tr th:only-of-type {\n",
       "        vertical-align: middle;\n",
       "    }\n",
       "\n",
       "    .dataframe tbody tr th {\n",
       "        vertical-align: top;\n",
       "    }\n",
       "\n",
       "    .dataframe thead th {\n",
       "        text-align: right;\n",
       "    }\n",
       "</style>\n",
       "<table border=\"1\" class=\"dataframe\">\n",
       "  <thead>\n",
       "    <tr style=\"text-align: right;\">\n",
       "      <th></th>\n",
       "      <th>A</th>\n",
       "      <th>B</th>\n",
       "      <th>C</th>\n",
       "      <th>D</th>\n",
       "      <th>E</th>\n",
       "    </tr>\n",
       "  </thead>\n",
       "  <tbody>\n",
       "    <tr>\n",
       "      <th>2000-01-01</th>\n",
       "      <td>-0.0</td>\n",
       "      <td>0.991190</td>\n",
       "      <td>1.0</td>\n",
       "      <td>-25.423360</td>\n",
       "      <td>-26.526562</td>\n",
       "    </tr>\n",
       "    <tr>\n",
       "      <th>2000-01-02</th>\n",
       "      <td>0.0</td>\n",
       "      <td>0.503284</td>\n",
       "      <td>1.0</td>\n",
       "      <td>0.277183</td>\n",
       "      <td>3.340049</td>\n",
       "    </tr>\n",
       "    <tr>\n",
       "      <th>2000-01-03</th>\n",
       "      <td>-0.0</td>\n",
       "      <td>1.013725</td>\n",
       "      <td>1.0</td>\n",
       "      <td>-10.624235</td>\n",
       "      <td>-12.391142</td>\n",
       "    </tr>\n",
       "    <tr>\n",
       "      <th>2000-01-04</th>\n",
       "      <td>-0.0</td>\n",
       "      <td>-6.612790</td>\n",
       "      <td>1.0</td>\n",
       "      <td>-1.477853</td>\n",
       "      <td>-18.108011</td>\n",
       "    </tr>\n",
       "    <tr>\n",
       "      <th>2000-01-05</th>\n",
       "      <td>0.0</td>\n",
       "      <td>0.720357</td>\n",
       "      <td>1.0</td>\n",
       "      <td>0.163305</td>\n",
       "      <td>2.131756</td>\n",
       "    </tr>\n",
       "  </tbody>\n",
       "</table>\n",
       "</div>"
      ],
      "text/plain": [
       "              A         B    C          D          E\n",
       "2000-01-01 -0.0  0.991190  1.0 -25.423360 -26.526562\n",
       "2000-01-02  0.0  0.503284  1.0   0.277183   3.340049\n",
       "2000-01-03 -0.0  1.013725  1.0 -10.624235 -12.391142\n",
       "2000-01-04 -0.0 -6.612790  1.0  -1.477853 -18.108011\n",
       "2000-01-05  0.0  0.720357  1.0   0.163305   2.131756"
      ]
     },
     "execution_count": 29,
     "metadata": {},
     "output_type": "execute_result"
    }
   ],
   "source": [
    "# 모든 값을 C열의 값으로 나누고, csv파일로 저장\n",
    "df = df.div(df['C'], axis =0)  # C열의 값을 기준으로 div계산\n",
    "df.to_csv('test.csv')    # df를 test.csv 파일에 저장\n",
    "df.head()"
   ]
  },
  {
   "cell_type": "code",
   "execution_count": 31,
   "id": "removable-positive",
   "metadata": {},
   "outputs": [
    {
     "data": {
      "text/html": [
       "<div>\n",
       "<style scoped>\n",
       "    .dataframe tbody tr th:only-of-type {\n",
       "        vertical-align: middle;\n",
       "    }\n",
       "\n",
       "    .dataframe tbody tr th {\n",
       "        vertical-align: top;\n",
       "    }\n",
       "\n",
       "    .dataframe thead th {\n",
       "        text-align: right;\n",
       "    }\n",
       "</style>\n",
       "<table border=\"1\" class=\"dataframe\">\n",
       "  <thead>\n",
       "    <tr style=\"text-align: right;\">\n",
       "      <th></th>\n",
       "      <th>A</th>\n",
       "      <th>B</th>\n",
       "      <th>C</th>\n",
       "      <th>D</th>\n",
       "      <th>E</th>\n",
       "    </tr>\n",
       "  </thead>\n",
       "  <tbody>\n",
       "    <tr>\n",
       "      <th>2000-01-01</th>\n",
       "      <td>-0.0</td>\n",
       "      <td>0.155627</td>\n",
       "      <td>1.0</td>\n",
       "      <td>-0.576664</td>\n",
       "      <td>-4.298381</td>\n",
       "    </tr>\n",
       "    <tr>\n",
       "      <th>2000-01-02</th>\n",
       "      <td>0.0</td>\n",
       "      <td>0.941360</td>\n",
       "      <td>1.0</td>\n",
       "      <td>2.403206</td>\n",
       "      <td>6.291577</td>\n",
       "    </tr>\n",
       "    <tr>\n",
       "      <th>2000-01-03</th>\n",
       "      <td>-0.0</td>\n",
       "      <td>-6.003527</td>\n",
       "      <td>1.0</td>\n",
       "      <td>-1.937460</td>\n",
       "      <td>-20.322094</td>\n",
       "    </tr>\n",
       "    <tr>\n",
       "      <th>2000-01-04</th>\n",
       "      <td>0.0</td>\n",
       "      <td>0.966189</td>\n",
       "      <td>1.0</td>\n",
       "      <td>0.031526</td>\n",
       "      <td>2.467421</td>\n",
       "    </tr>\n",
       "    <tr>\n",
       "      <th>2000-01-05</th>\n",
       "      <td>0.0</td>\n",
       "      <td>1.086042</td>\n",
       "      <td>1.0</td>\n",
       "      <td>0.224871</td>\n",
       "      <td>10.200259</td>\n",
       "    </tr>\n",
       "  </tbody>\n",
       "</table>\n",
       "</div>"
      ],
      "text/plain": [
       "              A         B    C         D          E\n",
       "2000-01-01 -0.0  0.155627  1.0 -0.576664  -4.298381\n",
       "2000-01-02  0.0  0.941360  1.0  2.403206   6.291577\n",
       "2000-01-03 -0.0 -6.003527  1.0 -1.937460 -20.322094\n",
       "2000-01-04  0.0  0.966189  1.0  0.031526   2.467421\n",
       "2000-01-05  0.0  1.086042  1.0  0.224871  10.200259"
      ]
     },
     "execution_count": 31,
     "metadata": {},
     "output_type": "execute_result"
    }
   ],
   "source": [
    "# DataFrame Summary\n",
    "import pandas as pd\n",
    "import numpy as np\n",
    "index = pd.date_range('1/1/2000', periods = 8) #2000-01-01 부터 2000-01-08까지 index\n",
    "df = pd.DataFrame(np.random.rand(8,3), index = index, columns = list('ABC'))\n",
    "# DataFrame( data : ndarray(8x3) of random value in range(0,1) index = index, columns = 'A', 'B', 'C')\n",
    "df['D'] = df['A']/df['B']\n",
    "df['E'] = np.sum(df, axis=1)   # 행에 대해 계산\n",
    "df = df.sub(df['A'], axis =0)\n",
    "df = df.div(df['C'], axis=0)\n",
    "df.to_csv('test.csv')    # DataFrame df 를 'test.csv'파일에 저장\n",
    "df.head()"
   ]
  },
  {
   "cell_type": "code",
   "execution_count": 32,
   "id": "arctic-marker",
   "metadata": {},
   "outputs": [
    {
     "name": "stdout",
     "output_type": "stream",
     "text": [
      "      Name  Birth\n",
      "0      Bob  12-25\n",
      "1  Jessica  10-11\n",
      "2    Marry  05-05\n",
      "3     John  06-12\n",
      "4     Kate  11-30\n",
      "      Name  Birth 성별\n",
      "0      Bob  12-25  M\n",
      "1  Jessica  10-11  F\n",
      "2    Marry  05-05  F\n",
      "3     John  06-12  M\n",
      "4     Kate  11-30  F\n",
      "5    Hanna  11-11  F\n"
     ]
    }
   ],
   "source": [
    "import pandas as pd\n",
    "names = ['Bob', 'Jessica', 'Marry', 'John', 'Kate']\n",
    "births = ['12-25', '10-11', '05-05', '06-12', '11-30']\n",
    "#data를 읽어온다..\n",
    "members = {'Name': names, 'Birth': births} # 'Name', 'Birth'를 key이자 column index; names와 births는 value로\n",
    "df  = pd.DataFrame(data = members)\n",
    "print(df)\n",
    "\n",
    "# 열 추가\n",
    "df['성별']= ['M','F', 'F', 'M', 'F']  # 없는 열을 선언 : 추가하는 것\n",
    "\n",
    "# 행 추가\n",
    "df.loc[5] = ['Hanna', '11-11', 'F']  # 없는 행이자 추가하려는 index를 df.loc[]안에. -> 행 추가\n",
    "print(df)"
   ]
  },
  {
   "cell_type": "code",
   "execution_count": 33,
   "id": "appointed-quilt",
   "metadata": {},
   "outputs": [
    {
     "name": "stdout",
     "output_type": "stream",
     "text": [
      "   year  GDP rate    GDP\n",
      "0  2016       2.8  1.63M\n",
      "1  2017       3.1  1.73M\n",
      "2  2018       3.0  1.83M\n"
     ]
    }
   ],
   "source": [
    "# indexing and masking specific data in Dataframes\n",
    "import pandas as pd\n",
    "g_data = [[2016,2.8, '1.63M'],[2017,3.1,'1.73M'],[2018, 3.0, '1.83M']]\n",
    "df = pd.DataFrame(g_data, columns = ['year', 'GDP rate', 'GDP'], index = [0,1,2])\n",
    "print(df)"
   ]
  },
  {
   "cell_type": "code",
   "execution_count": 35,
   "id": "declared-comfort",
   "metadata": {},
   "outputs": [
    {
     "name": "stdout",
     "output_type": "stream",
     "text": [
      "0    2016\n",
      "1    2017\n",
      "2    2018\n",
      "Name: year, dtype: int64\n",
      "\n",
      "   year  GDP rate    GDP\n",
      "1  2017       3.1  1.73M\n",
      "2  2018       3.0  1.83M\n",
      "\n",
      "0    2.8\n",
      "1    3.1\n",
      "2    3.0\n",
      "Name: GDP rate, dtype: float64\n",
      "\n",
      "0    1.63M\n",
      "1    1.73M\n",
      "2    1.83M\n",
      "Name: GDP, dtype: object\n"
     ]
    }
   ],
   "source": [
    "print(df['year'])  # df.year 과 동일\n",
    "print()\n",
    "# boolean indexing\n",
    "print(df[df['year']>2016])    #df['year'] 의 값들중 2016보다 큰 값에 해당하는 index data masking\n",
    "print()\n",
    "\n",
    "print(df['GDP rate'])\n",
    "print()\n",
    "print(df.GDP)  # == df['GDP']"
   ]
  },
  {
   "cell_type": "code",
   "execution_count": 36,
   "id": "informed-drain",
   "metadata": {},
   "outputs": [
    {
     "name": "stdout",
     "output_type": "stream",
     "text": [
      "   year  GDP rate    GDP\n",
      "0  2016       2.8  1.63M\n",
      "2  2018       3.0  1.83M\n",
      "1  2017       3.1  1.73M\n",
      "\n",
      "   year  GDP rate    GDP\n",
      "1  2017       3.1  1.73M\n",
      "2  2018       3.0  1.83M\n",
      "0  2016       2.8  1.63M\n"
     ]
    }
   ],
   "source": [
    "# sort_values() 함수 in DataFrame\n",
    "# by parameter에 명시하는 변수 기준!!\n",
    "# default : True (오름차순/ascending = True).\n",
    "# if ascending = False: 내림차순\n",
    "print(df.sort_values(by = 'GDP rate')) # 오름차순 (default)\n",
    "print()\n",
    "print(df.sort_values(by = 'GDP rate', ascending = False)) #내림차순"
   ]
  },
  {
   "cell_type": "code",
   "execution_count": 37,
   "id": "congressional-characterization",
   "metadata": {},
   "outputs": [
    {
     "name": "stdout",
     "output_type": "stream",
     "text": [
      "   year  GDP rate    GDP\n",
      "1  2017       3.1  1.73M\n",
      "2  2018       3.0  1.83M\n",
      "0  2016       2.8  1.63M\n",
      "\n",
      "   year  GDP rate    GDP\n",
      "0  2017       3.1  1.73M\n",
      "1  2018       3.0  1.83M\n",
      "2  2016       2.8  1.63M\n"
     ]
    }
   ],
   "source": [
    "# 새로운 index 설정하기 : df.reset_index(drop = True)\n",
    "df2 = df.sort_values(by = 'GDP rate', ascending = False)\n",
    "print(df2)\n",
    "print()\n",
    "df2 = df2.reset_index(drop = True) # 새 인덱스 설정 (현재 순서로)\n",
    "print(df2)"
   ]
  },
  {
   "cell_type": "code",
   "execution_count": 38,
   "id": "peripheral-dream",
   "metadata": {},
   "outputs": [
    {
     "name": "stdout",
     "output_type": "stream",
     "text": [
      "8.9\n",
      "2.966666666666667\n",
      "\n",
      "         year  GDP rate\n",
      "count     3.0  3.000000\n",
      "mean   2017.0  2.966667\n",
      "std       1.0  0.152753\n",
      "min    2016.0  2.800000\n",
      "25%    2016.5  2.900000\n",
      "50%    2017.0  3.000000\n",
      "75%    2017.5  3.050000\n",
      "max    2018.0  3.100000\n"
     ]
    }
   ],
   "source": [
    "# DataFrame data에 대한 다양한 연산함수\n",
    "sum = df['GDP rate'].sum()\n",
    "avg = df['GDP rate'].mean()\n",
    "print(sum)\n",
    "print(avg)\n",
    "print()\n",
    "print(df.describe())    #각 column별 데이터의 기본적 통계값 모두 표시"
   ]
  },
  {
   "cell_type": "code",
   "execution_count": null,
   "id": "sunset-house",
   "metadata": {},
   "outputs": [],
   "source": []
  }
 ],
 "metadata": {
  "kernelspec": {
   "display_name": "Python 3",
   "language": "python",
   "name": "python3"
  },
  "language_info": {
   "codemirror_mode": {
    "name": "ipython",
    "version": 3
   },
   "file_extension": ".py",
   "mimetype": "text/x-python",
   "name": "python",
   "nbconvert_exporter": "python",
   "pygments_lexer": "ipython3",
   "version": "3.9.2"
  }
 },
 "nbformat": 4,
 "nbformat_minor": 5
}
