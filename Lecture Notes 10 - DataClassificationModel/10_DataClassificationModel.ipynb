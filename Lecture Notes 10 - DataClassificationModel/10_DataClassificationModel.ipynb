{
 "cells": [
  {
   "cell_type": "code",
   "execution_count": 1,
   "id": "occupied-mercy",
   "metadata": {},
   "outputs": [
    {
     "name": "stdout",
     "output_type": "stream",
     "text": [
      "<class 'pandas.core.frame.DataFrame'>\n",
      "RangeIndex: 916 entries, 0 to 915\n",
      "Data columns (total 13 columns):\n",
      " #   Column     Non-Null Count  Dtype  \n",
      "---  ------     --------------  -----  \n",
      " 0   pclass     916 non-null    int64  \n",
      " 1   survived   916 non-null    int64  \n",
      " 2   name       916 non-null    object \n",
      " 3   sex        916 non-null    object \n",
      " 4   age        741 non-null    float64\n",
      " 5   sibsp      916 non-null    int64  \n",
      " 6   parch      916 non-null    int64  \n",
      " 7   ticket     916 non-null    object \n",
      " 8   fare       916 non-null    float64\n",
      " 9   cabin      214 non-null    object \n",
      " 10  embarked   914 non-null    object \n",
      " 11  body       85 non-null     float64\n",
      " 12  home.dest  527 non-null    object \n",
      "dtypes: float64(3), int64(4), object(6)\n",
      "memory usage: 93.2+ KB\n",
      "None\n"
     ]
    }
   ],
   "source": [
    "import pandas as pd\n",
    "import numpy as np\n",
    "import matplotlib.pyplot as plt\n",
    "import seaborn as sns\n",
    "\n",
    "import warnings\n",
    "warnings.filterwarnings(\"ignore\")\n",
    "\n",
    "df_train = pd.read_csv(\"titanic_train.csv\")\n",
    "df_test = pd.read_csv(\"titanic_test.csv\")\n",
    "# 데이터 기초 정보\n",
    "print(df_train.info())"
   ]
  },
  {
   "cell_type": "code",
   "execution_count": 2,
   "id": "auburn-white",
   "metadata": {},
   "outputs": [
    {
     "data": {
      "text/html": [
       "<div>\n",
       "<style scoped>\n",
       "    .dataframe tbody tr th:only-of-type {\n",
       "        vertical-align: middle;\n",
       "    }\n",
       "\n",
       "    .dataframe tbody tr th {\n",
       "        vertical-align: top;\n",
       "    }\n",
       "\n",
       "    .dataframe thead th {\n",
       "        text-align: right;\n",
       "    }\n",
       "</style>\n",
       "<table border=\"1\" class=\"dataframe\">\n",
       "  <thead>\n",
       "    <tr style=\"text-align: right;\">\n",
       "      <th></th>\n",
       "      <th>pclass</th>\n",
       "      <th>survived</th>\n",
       "      <th>name</th>\n",
       "      <th>sex</th>\n",
       "      <th>age</th>\n",
       "      <th>sibsp</th>\n",
       "      <th>parch</th>\n",
       "      <th>ticket</th>\n",
       "      <th>fare</th>\n",
       "      <th>cabin</th>\n",
       "      <th>embarked</th>\n",
       "      <th>body</th>\n",
       "      <th>home.dest</th>\n",
       "    </tr>\n",
       "  </thead>\n",
       "  <tbody>\n",
       "    <tr>\n",
       "      <th>0</th>\n",
       "      <td>2</td>\n",
       "      <td>1</td>\n",
       "      <td>Mellinger, Miss. Madeleine Violet</td>\n",
       "      <td>female</td>\n",
       "      <td>13.0</td>\n",
       "      <td>0</td>\n",
       "      <td>1</td>\n",
       "      <td>250644</td>\n",
       "      <td>19.5000</td>\n",
       "      <td>NaN</td>\n",
       "      <td>S</td>\n",
       "      <td>NaN</td>\n",
       "      <td>England / Bennington, VT</td>\n",
       "    </tr>\n",
       "    <tr>\n",
       "      <th>1</th>\n",
       "      <td>2</td>\n",
       "      <td>1</td>\n",
       "      <td>Wells, Miss. Joan</td>\n",
       "      <td>female</td>\n",
       "      <td>4.0</td>\n",
       "      <td>1</td>\n",
       "      <td>1</td>\n",
       "      <td>29103</td>\n",
       "      <td>23.0000</td>\n",
       "      <td>NaN</td>\n",
       "      <td>S</td>\n",
       "      <td>NaN</td>\n",
       "      <td>Cornwall / Akron, OH</td>\n",
       "    </tr>\n",
       "    <tr>\n",
       "      <th>2</th>\n",
       "      <td>2</td>\n",
       "      <td>1</td>\n",
       "      <td>Duran y More, Miss. Florentina</td>\n",
       "      <td>female</td>\n",
       "      <td>30.0</td>\n",
       "      <td>1</td>\n",
       "      <td>0</td>\n",
       "      <td>SC/PARIS 2148</td>\n",
       "      <td>13.8583</td>\n",
       "      <td>NaN</td>\n",
       "      <td>C</td>\n",
       "      <td>NaN</td>\n",
       "      <td>Barcelona, Spain / Havana, Cuba</td>\n",
       "    </tr>\n",
       "    <tr>\n",
       "      <th>3</th>\n",
       "      <td>3</td>\n",
       "      <td>0</td>\n",
       "      <td>Scanlan, Mr. James</td>\n",
       "      <td>male</td>\n",
       "      <td>NaN</td>\n",
       "      <td>0</td>\n",
       "      <td>0</td>\n",
       "      <td>36209</td>\n",
       "      <td>7.7250</td>\n",
       "      <td>NaN</td>\n",
       "      <td>Q</td>\n",
       "      <td>NaN</td>\n",
       "      <td>NaN</td>\n",
       "    </tr>\n",
       "    <tr>\n",
       "      <th>4</th>\n",
       "      <td>3</td>\n",
       "      <td>1</td>\n",
       "      <td>Bradley, Miss. Bridget Delia</td>\n",
       "      <td>female</td>\n",
       "      <td>22.0</td>\n",
       "      <td>0</td>\n",
       "      <td>0</td>\n",
       "      <td>334914</td>\n",
       "      <td>7.7250</td>\n",
       "      <td>NaN</td>\n",
       "      <td>Q</td>\n",
       "      <td>NaN</td>\n",
       "      <td>Kingwilliamstown, Co Cork, Ireland Glens Falls...</td>\n",
       "    </tr>\n",
       "    <tr>\n",
       "      <th>5</th>\n",
       "      <td>3</td>\n",
       "      <td>0</td>\n",
       "      <td>Linehan, Mr. Michael</td>\n",
       "      <td>male</td>\n",
       "      <td>NaN</td>\n",
       "      <td>0</td>\n",
       "      <td>0</td>\n",
       "      <td>330971</td>\n",
       "      <td>7.8792</td>\n",
       "      <td>NaN</td>\n",
       "      <td>Q</td>\n",
       "      <td>NaN</td>\n",
       "      <td>NaN</td>\n",
       "    </tr>\n",
       "    <tr>\n",
       "      <th>6</th>\n",
       "      <td>1</td>\n",
       "      <td>1</td>\n",
       "      <td>Francatelli, Miss. Laura Mabel</td>\n",
       "      <td>female</td>\n",
       "      <td>30.0</td>\n",
       "      <td>0</td>\n",
       "      <td>0</td>\n",
       "      <td>PC 17485</td>\n",
       "      <td>56.9292</td>\n",
       "      <td>E36</td>\n",
       "      <td>C</td>\n",
       "      <td>NaN</td>\n",
       "      <td>NaN</td>\n",
       "    </tr>\n",
       "    <tr>\n",
       "      <th>7</th>\n",
       "      <td>2</td>\n",
       "      <td>1</td>\n",
       "      <td>Quick, Miss. Phyllis May</td>\n",
       "      <td>female</td>\n",
       "      <td>2.0</td>\n",
       "      <td>1</td>\n",
       "      <td>1</td>\n",
       "      <td>26360</td>\n",
       "      <td>26.0000</td>\n",
       "      <td>NaN</td>\n",
       "      <td>S</td>\n",
       "      <td>NaN</td>\n",
       "      <td>Plymouth, Devon / Detroit, MI</td>\n",
       "    </tr>\n",
       "    <tr>\n",
       "      <th>8</th>\n",
       "      <td>1</td>\n",
       "      <td>0</td>\n",
       "      <td>Thayer, Mr. John Borland</td>\n",
       "      <td>male</td>\n",
       "      <td>49.0</td>\n",
       "      <td>1</td>\n",
       "      <td>1</td>\n",
       "      <td>17421</td>\n",
       "      <td>110.8833</td>\n",
       "      <td>C68</td>\n",
       "      <td>C</td>\n",
       "      <td>NaN</td>\n",
       "      <td>Haverford, PA</td>\n",
       "    </tr>\n",
       "    <tr>\n",
       "      <th>9</th>\n",
       "      <td>1</td>\n",
       "      <td>1</td>\n",
       "      <td>Silverthorne, Mr. Spencer Victor</td>\n",
       "      <td>male</td>\n",
       "      <td>35.0</td>\n",
       "      <td>0</td>\n",
       "      <td>0</td>\n",
       "      <td>PC 17475</td>\n",
       "      <td>26.2875</td>\n",
       "      <td>E24</td>\n",
       "      <td>S</td>\n",
       "      <td>NaN</td>\n",
       "      <td>St Louis, MO</td>\n",
       "    </tr>\n",
       "  </tbody>\n",
       "</table>\n",
       "</div>"
      ],
      "text/plain": [
       "   pclass  survived                               name     sex   age  sibsp  \\\n",
       "0       2         1  Mellinger, Miss. Madeleine Violet  female  13.0      0   \n",
       "1       2         1                  Wells, Miss. Joan  female   4.0      1   \n",
       "2       2         1     Duran y More, Miss. Florentina  female  30.0      1   \n",
       "3       3         0                 Scanlan, Mr. James    male   NaN      0   \n",
       "4       3         1       Bradley, Miss. Bridget Delia  female  22.0      0   \n",
       "5       3         0               Linehan, Mr. Michael    male   NaN      0   \n",
       "6       1         1     Francatelli, Miss. Laura Mabel  female  30.0      0   \n",
       "7       2         1           Quick, Miss. Phyllis May  female   2.0      1   \n",
       "8       1         0           Thayer, Mr. John Borland    male  49.0      1   \n",
       "9       1         1   Silverthorne, Mr. Spencer Victor    male  35.0      0   \n",
       "\n",
       "   parch         ticket      fare cabin embarked  body  \\\n",
       "0      1         250644   19.5000   NaN        S   NaN   \n",
       "1      1          29103   23.0000   NaN        S   NaN   \n",
       "2      0  SC/PARIS 2148   13.8583   NaN        C   NaN   \n",
       "3      0          36209    7.7250   NaN        Q   NaN   \n",
       "4      0         334914    7.7250   NaN        Q   NaN   \n",
       "5      0         330971    7.8792   NaN        Q   NaN   \n",
       "6      0       PC 17485   56.9292   E36        C   NaN   \n",
       "7      1          26360   26.0000   NaN        S   NaN   \n",
       "8      1          17421  110.8833   C68        C   NaN   \n",
       "9      0       PC 17475   26.2875   E24        S   NaN   \n",
       "\n",
       "                                           home.dest  \n",
       "0                           England / Bennington, VT  \n",
       "1                               Cornwall / Akron, OH  \n",
       "2                    Barcelona, Spain / Havana, Cuba  \n",
       "3                                                NaN  \n",
       "4  Kingwilliamstown, Co Cork, Ireland Glens Falls...  \n",
       "5                                                NaN  \n",
       "6                                                NaN  \n",
       "7                      Plymouth, Devon / Detroit, MI  \n",
       "8                                      Haverford, PA  \n",
       "9                                       St Louis, MO  "
      ]
     },
     "execution_count": 2,
     "metadata": {},
     "output_type": "execute_result"
    }
   ],
   "source": [
    "df_train.head(10)"
   ]
  },
  {
   "cell_type": "code",
   "execution_count": 3,
   "id": "lesser-consumer",
   "metadata": {},
   "outputs": [
    {
     "data": {
      "text/html": [
       "<div>\n",
       "<style scoped>\n",
       "    .dataframe tbody tr th:only-of-type {\n",
       "        vertical-align: middle;\n",
       "    }\n",
       "\n",
       "    .dataframe tbody tr th {\n",
       "        vertical-align: top;\n",
       "    }\n",
       "\n",
       "    .dataframe thead th {\n",
       "        text-align: right;\n",
       "    }\n",
       "</style>\n",
       "<table border=\"1\" class=\"dataframe\">\n",
       "  <thead>\n",
       "    <tr style=\"text-align: right;\">\n",
       "      <th></th>\n",
       "      <th>pclass</th>\n",
       "      <th>survived</th>\n",
       "      <th>sex</th>\n",
       "      <th>age</th>\n",
       "      <th>sibsp</th>\n",
       "      <th>parch</th>\n",
       "      <th>fare</th>\n",
       "      <th>embarked</th>\n",
       "    </tr>\n",
       "  </thead>\n",
       "  <tbody>\n",
       "    <tr>\n",
       "      <th>0</th>\n",
       "      <td>2</td>\n",
       "      <td>1</td>\n",
       "      <td>female</td>\n",
       "      <td>13.0</td>\n",
       "      <td>0</td>\n",
       "      <td>1</td>\n",
       "      <td>19.5000</td>\n",
       "      <td>S</td>\n",
       "    </tr>\n",
       "    <tr>\n",
       "      <th>1</th>\n",
       "      <td>2</td>\n",
       "      <td>1</td>\n",
       "      <td>female</td>\n",
       "      <td>4.0</td>\n",
       "      <td>1</td>\n",
       "      <td>1</td>\n",
       "      <td>23.0000</td>\n",
       "      <td>S</td>\n",
       "    </tr>\n",
       "    <tr>\n",
       "      <th>2</th>\n",
       "      <td>2</td>\n",
       "      <td>1</td>\n",
       "      <td>female</td>\n",
       "      <td>30.0</td>\n",
       "      <td>1</td>\n",
       "      <td>0</td>\n",
       "      <td>13.8583</td>\n",
       "      <td>C</td>\n",
       "    </tr>\n",
       "    <tr>\n",
       "      <th>3</th>\n",
       "      <td>3</td>\n",
       "      <td>0</td>\n",
       "      <td>male</td>\n",
       "      <td>NaN</td>\n",
       "      <td>0</td>\n",
       "      <td>0</td>\n",
       "      <td>7.7250</td>\n",
       "      <td>Q</td>\n",
       "    </tr>\n",
       "    <tr>\n",
       "      <th>4</th>\n",
       "      <td>3</td>\n",
       "      <td>1</td>\n",
       "      <td>female</td>\n",
       "      <td>22.0</td>\n",
       "      <td>0</td>\n",
       "      <td>0</td>\n",
       "      <td>7.7250</td>\n",
       "      <td>Q</td>\n",
       "    </tr>\n",
       "    <tr>\n",
       "      <th>5</th>\n",
       "      <td>3</td>\n",
       "      <td>0</td>\n",
       "      <td>male</td>\n",
       "      <td>NaN</td>\n",
       "      <td>0</td>\n",
       "      <td>0</td>\n",
       "      <td>7.8792</td>\n",
       "      <td>Q</td>\n",
       "    </tr>\n",
       "    <tr>\n",
       "      <th>6</th>\n",
       "      <td>1</td>\n",
       "      <td>1</td>\n",
       "      <td>female</td>\n",
       "      <td>30.0</td>\n",
       "      <td>0</td>\n",
       "      <td>0</td>\n",
       "      <td>56.9292</td>\n",
       "      <td>C</td>\n",
       "    </tr>\n",
       "    <tr>\n",
       "      <th>7</th>\n",
       "      <td>2</td>\n",
       "      <td>1</td>\n",
       "      <td>female</td>\n",
       "      <td>2.0</td>\n",
       "      <td>1</td>\n",
       "      <td>1</td>\n",
       "      <td>26.0000</td>\n",
       "      <td>S</td>\n",
       "    </tr>\n",
       "    <tr>\n",
       "      <th>8</th>\n",
       "      <td>1</td>\n",
       "      <td>0</td>\n",
       "      <td>male</td>\n",
       "      <td>49.0</td>\n",
       "      <td>1</td>\n",
       "      <td>1</td>\n",
       "      <td>110.8833</td>\n",
       "      <td>C</td>\n",
       "    </tr>\n",
       "    <tr>\n",
       "      <th>9</th>\n",
       "      <td>1</td>\n",
       "      <td>1</td>\n",
       "      <td>male</td>\n",
       "      <td>35.0</td>\n",
       "      <td>0</td>\n",
       "      <td>0</td>\n",
       "      <td>26.2875</td>\n",
       "      <td>S</td>\n",
       "    </tr>\n",
       "  </tbody>\n",
       "</table>\n",
       "</div>"
      ],
      "text/plain": [
       "   pclass  survived     sex   age  sibsp  parch      fare embarked\n",
       "0       2         1  female  13.0      0      1   19.5000        S\n",
       "1       2         1  female   4.0      1      1   23.0000        S\n",
       "2       2         1  female  30.0      1      0   13.8583        C\n",
       "3       3         0    male   NaN      0      0    7.7250        Q\n",
       "4       3         1  female  22.0      0      0    7.7250        Q\n",
       "5       3         0    male   NaN      0      0    7.8792        Q\n",
       "6       1         1  female  30.0      0      0   56.9292        C\n",
       "7       2         1  female   2.0      1      1   26.0000        S\n",
       "8       1         0    male  49.0      1      1  110.8833        C\n",
       "9       1         1    male  35.0      0      0   26.2875        S"
      ]
     },
     "execution_count": 3,
     "metadata": {},
     "output_type": "execute_result"
    }
   ],
   "source": [
    "# 데이터 전처리 (생존자 분류 모델에 영향을 끼치지 않는 feature 제거)\n",
    "df_train = df_train.drop(['name', 'ticket', 'body', 'cabin', 'home.dest'], axis = 1)\n",
    "df_test = df_test.drop(['name', 'ticket', 'body', 'cabin', 'home.dest'], axis = 1)\n",
    "df_train.head(10)"
   ]
  },
  {
   "cell_type": "code",
   "execution_count": 4,
   "id": "gorgeous-member",
   "metadata": {},
   "outputs": [
    {
     "name": "stdout",
     "output_type": "stream",
     "text": [
      "0    563\n",
      "1    353\n",
      "Name: survived, dtype: int64\n"
     ]
    },
    {
     "data": {
      "text/plain": [
       "<AxesSubplot:>"
      ]
     },
     "execution_count": 4,
     "metadata": {},
     "output_type": "execute_result"
    },
    {
     "data": {
      "image/png": "[encoded data removed]",
      "text/plain": [
       "<Figure size 432x288 with 1 Axes>"
      ]
     },
     "metadata": {
      "needs_background": "light"
     },
     "output_type": "display_data"
    }
   ],
   "source": [
    "# 생존자 그룹과 비생존자 그룹으로 나누어 feature 그룹 차이 탐색\n",
    "print(df_train['survived'].value_counts())\n",
    "df_train['survived'].value_counts().plot.bar()"
   ]
  },
  {
   "cell_type": "code",
   "execution_count": 5,
   "id": "invisible-survey",
   "metadata": {},
   "outputs": [
    {
     "name": "stdout",
     "output_type": "stream",
     "text": [
      "3    498\n",
      "1    230\n",
      "2    188\n",
      "Name: pclass, dtype: int64\n"
     ]
    },
    {
     "data": {
      "image/png": "[encoded data removed]",
      "text/plain": [
       "<Figure size 432x288 with 1 Axes>"
      ]
     },
     "metadata": {
      "needs_background": "light"
     },
     "output_type": "display_data"
    }
   ],
   "source": [
    "# survived feature를 기준으로 그룹을 나누어 생존자/비생존자 그룹의 생존자 등급(pclass) 분포 확인\n",
    "print(df_train['pclass'].value_counts())\n",
    "ax = sns.countplot(x='pclass', hue = 'survived', data = df_train)"
   ]
  },
  {
   "cell_type": "code",
   "execution_count": 6,
   "id": "continuous-public",
   "metadata": {},
   "outputs": [],
   "source": [
    "from scipy import stats\n",
    "def valid_features(df, col_name, distribution_check = True):\n",
    "    # 두 집단의 분포 그래프 출력\n",
    "    g = sns.FacetGrid(df, col = 'survived')\n",
    "    g.map(plt.hist, col_name, bins = 30)\n",
    "    \n",
    "    # 두 집단의 표준 편차 출력\n",
    "    titanic_survived = df[df['survived']==1]\n",
    "    titanic_survived_static = np.array(titanic_survived[col_name])\n",
    "    print(\"data std is\", '%2f' %np.std(titanic_survived_static))\n",
    "    titanic_n_survived = df[df['survived']==0]\n",
    "    titanic_n_survived_static = np.array(titanic_n_survived[col_name])\n",
    "    print(\"data std is\", '%2f' %np.std(titanic_n_survived_static))\n",
    "    \n",
    "    # T-test로 두 집단 평균차이 검정\n",
    "    tTestResult = stats.ttest_ind(titanic_survived[col_name], titanic_n_survived[col_name])\n",
    "    tTestResultDiffVar = stats.ttest_ind(titanic_survived[col_name], titanic_n_survived[col_name], equal_var = False)\n",
    "    print(\"The t-statistic and p-value assuming equal variances is %.3f and %.3f.\" %tTestResult)\n",
    "    print(\"The t-statistic and p-value not assuming equal variances is %.3f and %.3f.\" %tTestResultDiffVar)"
   ]
  },
  {
   "cell_type": "code",
   "execution_count": 7,
   "id": "occasional-simulation",
   "metadata": {
    "scrolled": false
   },
   "outputs": [
    {
     "name": "stdout",
     "output_type": "stream",
     "text": [
      "data std is 14.217911\n",
      "data std is 13.710057\n",
      "The t-statistic and p-value assuming equal variances is -0.546 and 0.585.\n",
      "The t-statistic and p-value not assuming equal variances is -0.543 and 0.587.\n"
     ]
    },
    {
     "data": {
      "image/png": "[encoded data removed]",
      "text/plain": [
       "<Figure size 432x216 with 2 Axes>"
      ]
     },
     "metadata": {
      "needs_background": "light"
     },
     "output_type": "display_data"
    }
   ],
   "source": [
    "# age feature로 탐색/검정\n",
    "valid_features(df_train[df_train['age']>0], 'age', distribution_check = True)"
   ]
  },
  {
   "cell_type": "code",
   "execution_count": 8,
   "id": "integrated-stadium",
   "metadata": {},
   "outputs": [
    {
     "name": "stdout",
     "output_type": "stream",
     "text": [
      "data std is 0.644624\n",
      "data std is 1.337840\n",
      "The t-statistic and p-value assuming equal variances is -2.118 and 0.034.\n",
      "The t-statistic and p-value not assuming equal variances is -2.446 and 0.015.\n"
     ]
    },
    {
     "data": {
      "image/png": "[encoded data removed]",
      "text/plain": [
       "<Figure size 432x216 with 2 Axes>"
      ]
     },
     "metadata": {
      "needs_background": "light"
     },
     "output_type": "display_data"
    }
   ],
   "source": [
    "# sibsp feature 탐색/검정\n",
    "valid_features(df_train, 'sibsp', distribution_check = False)"
   ]
  },
  {
   "cell_type": "code",
   "execution_count": 9,
   "id": "close-spanish",
   "metadata": {},
   "outputs": [
    {
     "data": {
      "text/html": [
       "<div>\n",
       "<style scoped>\n",
       "    .dataframe tbody tr th:only-of-type {\n",
       "        vertical-align: middle;\n",
       "    }\n",
       "\n",
       "    .dataframe tbody tr th {\n",
       "        vertical-align: top;\n",
       "    }\n",
       "\n",
       "    .dataframe thead th {\n",
       "        text-align: right;\n",
       "    }\n",
       "</style>\n",
       "<table border=\"1\" class=\"dataframe\">\n",
       "  <thead>\n",
       "    <tr style=\"text-align: right;\">\n",
       "      <th></th>\n",
       "      <th>pclass</th>\n",
       "      <th>survived</th>\n",
       "      <th>age</th>\n",
       "      <th>sibsp</th>\n",
       "      <th>parch</th>\n",
       "      <th>fare</th>\n",
       "      <th>sex_female</th>\n",
       "      <th>sex_male</th>\n",
       "      <th>embarked_C</th>\n",
       "      <th>embarked_Q</th>\n",
       "      <th>embarked_S</th>\n",
       "    </tr>\n",
       "  </thead>\n",
       "  <tbody>\n",
       "    <tr>\n",
       "      <th>0</th>\n",
       "      <td>2</td>\n",
       "      <td>1</td>\n",
       "      <td>13.000000</td>\n",
       "      <td>0</td>\n",
       "      <td>1</td>\n",
       "      <td>19.5000</td>\n",
       "      <td>1</td>\n",
       "      <td>0</td>\n",
       "      <td>0</td>\n",
       "      <td>0</td>\n",
       "      <td>1</td>\n",
       "    </tr>\n",
       "    <tr>\n",
       "      <th>1</th>\n",
       "      <td>2</td>\n",
       "      <td>1</td>\n",
       "      <td>4.000000</td>\n",
       "      <td>1</td>\n",
       "      <td>1</td>\n",
       "      <td>23.0000</td>\n",
       "      <td>1</td>\n",
       "      <td>0</td>\n",
       "      <td>0</td>\n",
       "      <td>0</td>\n",
       "      <td>1</td>\n",
       "    </tr>\n",
       "    <tr>\n",
       "      <th>2</th>\n",
       "      <td>2</td>\n",
       "      <td>1</td>\n",
       "      <td>30.000000</td>\n",
       "      <td>1</td>\n",
       "      <td>0</td>\n",
       "      <td>13.8583</td>\n",
       "      <td>1</td>\n",
       "      <td>0</td>\n",
       "      <td>1</td>\n",
       "      <td>0</td>\n",
       "      <td>0</td>\n",
       "    </tr>\n",
       "    <tr>\n",
       "      <th>3</th>\n",
       "      <td>3</td>\n",
       "      <td>0</td>\n",
       "      <td>30.231444</td>\n",
       "      <td>0</td>\n",
       "      <td>0</td>\n",
       "      <td>7.7250</td>\n",
       "      <td>0</td>\n",
       "      <td>1</td>\n",
       "      <td>0</td>\n",
       "      <td>1</td>\n",
       "      <td>0</td>\n",
       "    </tr>\n",
       "    <tr>\n",
       "      <th>4</th>\n",
       "      <td>3</td>\n",
       "      <td>1</td>\n",
       "      <td>22.000000</td>\n",
       "      <td>0</td>\n",
       "      <td>0</td>\n",
       "      <td>7.7250</td>\n",
       "      <td>1</td>\n",
       "      <td>0</td>\n",
       "      <td>0</td>\n",
       "      <td>1</td>\n",
       "      <td>0</td>\n",
       "    </tr>\n",
       "  </tbody>\n",
       "</table>\n",
       "</div>"
      ],
      "text/plain": [
       "   pclass  survived        age  sibsp  parch     fare  sex_female  sex_male  \\\n",
       "0       2         1  13.000000      0      1  19.5000           1         0   \n",
       "1       2         1   4.000000      1      1  23.0000           1         0   \n",
       "2       2         1  30.000000      1      0  13.8583           1         0   \n",
       "3       3         0  30.231444      0      0   7.7250           0         1   \n",
       "4       3         1  22.000000      0      0   7.7250           1         0   \n",
       "\n",
       "   embarked_C  embarked_Q  embarked_S  \n",
       "0           0           0           1  \n",
       "1           0           0           1  \n",
       "2           1           0           0  \n",
       "3           0           1           0  \n",
       "4           0           1           0  "
      ]
     },
     "execution_count": 9,
     "metadata": {},
     "output_type": "execute_result"
    }
   ],
   "source": [
    "# 생존자 분류모델 만들기\n",
    "# step1 데이터 전처리 - 결측값 처리 (여러가지 방법으로 결측값 처리)\n",
    "# age 결측값 : 평균값으로 대체\n",
    "replace_mean = df_train[df_train['age']>0]['age'].mean()\n",
    "df_train['age'] = df_train['age'].fillna(replace_mean)\n",
    "df_test['age'] = df_test['age'].fillna(replace_mean)\n",
    "\n",
    "# embark 결측값 : 2개의 결측값을 최빈값으로 대체\n",
    "embarked_mode = df_train['embarked'].value_counts().index[0]\n",
    "df_train['embarked'] = df_train['embarked'].fillna(embarked_mode)\n",
    "df_test['embarked'] = df_test['embarked'].fillna(embarked_mode)\n",
    "\n",
    "# one-hot encoding을 위한 통합 데이터 프레임(whole_df)을 생성\n",
    "whole_df = df_train.append(df_test)\n",
    "train_idx_num = len(df_train)\n",
    "# pandas패키지를 이용해 one-hot encoding 수행\n",
    "whole_df_encoded = pd.get_dummies(whole_df)\n",
    "df_train = whole_df_encoded[:train_idx_num]\n",
    "df_test = whole_df_encoded[train_idx_num:]\n",
    "df_train.head()"
   ]
  },
  {
   "cell_type": "code",
   "execution_count": 10,
   "id": "alert-adapter",
   "metadata": {},
   "outputs": [
    {
     "name": "stdout",
     "output_type": "stream",
     "text": [
      "Requirement already satisfied: scikit-learn in /usr/local/lib/python3.9/site-packages (0.24.2)\n",
      "Requirement already satisfied: scipy>=0.19.1 in /usr/local/lib/python3.9/site-packages (from scikit-learn) (1.6.3)\n",
      "Requirement already satisfied: numpy>=1.13.3 in /usr/local/lib/python3.9/site-packages (from scikit-learn) (1.20.2)\n",
      "Requirement already satisfied: joblib>=0.11 in /usr/local/lib/python3.9/site-packages (from scikit-learn) (1.0.1)\n",
      "Requirement already satisfied: threadpoolctl>=2.0.0 in /usr/local/lib/python3.9/site-packages (from scikit-learn) (2.1.0)\n"
     ]
    }
   ],
   "source": [
    "!pip install scikit-learn"
   ]
  },
  {
   "cell_type": "code",
   "execution_count": 11,
   "id": "prompt-institution",
   "metadata": {},
   "outputs": [
    {
     "name": "stdout",
     "output_type": "stream",
     "text": [
      "[0.08321232 0.83053814 0.12086697 0.10316504 0.24841063 0.6985773\n",
      " 0.28677742 0.26362328 0.11143636 0.10269442 0.33244088 0.14040507\n",
      " 0.32250381 0.68238007 0.92643887 0.25085782 0.62512002 0.47754278\n",
      " 0.88354172 0.09532784 0.12754364 0.04467181 0.10897052 0.91803042\n",
      " 0.23015668 0.71857412 0.27990444 0.15046733 0.12668618 0.7073257\n",
      " 0.85613752 0.96205731 0.81369254 0.30259358 0.77558435 0.1026549\n",
      " 0.09531723 0.42598237 0.16948651 0.12112087 0.10263102 0.12171219\n",
      " 0.37233913 0.30823549 0.54682925 0.06022978 0.15223303 0.91470376\n",
      " 0.33630411 0.10273854 0.84302883 0.10267788 0.12110777 0.62792285\n",
      " 0.11491396 0.10268982 0.90064271 0.4358023  0.7057723  0.90561328\n",
      " 0.1345381  0.30541923 0.49665178 0.22491536 0.54868438 0.78683327\n",
      " 0.2512329  0.16948651 0.13096036 0.72994179 0.79768454 0.09024137\n",
      " 0.40650038 0.05801572 0.65236834 0.93997283 0.28595444 0.88697765\n",
      " 0.56686339 0.12600357 0.36928905 0.76033377 0.2136955  0.3246752\n",
      " 0.47718198 0.94434904 0.11758382 0.06486467 0.21614899 0.10630697\n",
      " 0.16948651 0.16948651 0.07459526 0.17004212 0.09025927 0.44266416\n",
      " 0.15673732 0.5685573  0.20256085 0.9003881  0.32031145 0.10430719\n",
      " 0.31484835 0.5112094  0.1034348  0.12726051 0.56583772 0.12606583\n",
      " 0.0903069  0.29554187 0.41035626 0.54402022 0.29632833 0.28062825\n",
      " 0.656105   0.14475528 0.30258415 0.29499257 0.19627991 0.76636898\n",
      " 0.42240613 0.16724768 0.54953836 0.62723463 0.07811161 0.12600357\n",
      " 0.10267849 0.1118303  0.46689678 0.35415767 0.10267849 0.54953836\n",
      " 0.14431131 0.6678712  0.13439821 0.12760099 0.11954556 0.65234647\n",
      " 0.12424456 0.65243845 0.2780193  0.87314554 0.13100652 0.1379108\n",
      " 0.26902277 0.40659664 0.75987318 0.10267849 0.9193983  0.40583639\n",
      " 0.53511089 0.24289406 0.26223201 0.88396733 0.17479583 0.16948698\n",
      " 0.62135283 0.90355112 0.17046025 0.18509297 0.11264568 0.2927565\n",
      " 0.33244013 0.61356155 0.14420884 0.74177642 0.12600357 0.13714889\n",
      " 0.08096713 0.11954256 0.2595047  0.32751812 0.65237362 0.12124409\n",
      " 0.68842376 0.13640102 0.13440343 0.90113431 0.70841401 0.94180212\n",
      " 0.9530025  0.12600357 0.61824408 0.30088157 0.78503551 0.64934123\n",
      " 0.84747338 0.16948698 0.14090903 0.14901385 0.47688998 0.47154846\n",
      " 0.91996716 0.19524525 0.36506661 0.65517512 0.11970239 0.81368738\n",
      " 0.12443352 0.14849264 0.14468121 0.10268982 0.12761469 0.88408921\n",
      " 0.35634929 0.13788472 0.16343951 0.05927302 0.14514087 0.09278689\n",
      " 0.65239171 0.40755962 0.25688425 0.0580288  0.78655996 0.12707793\n",
      " 0.14849264 0.05111395 0.24611956 0.10261632 0.89050141 0.57006085\n",
      " 0.88064063 0.94413452 0.76769059 0.06295477 0.56686339 0.83403918\n",
      " 0.77395508 0.80708565 0.7684222  0.32472113 0.11791565 0.64900845\n",
      " 0.13451255 0.1354366  0.65236305 0.07828896 0.13260473 0.13291297\n",
      " 0.17046073 0.34649367 0.10320934 0.21791169 0.1595721  0.16607147\n",
      " 0.40739581 0.30541923 0.72542299 0.06275756 0.10326842 0.10195421\n",
      " 0.41350576 0.10611015 0.60656212 0.16948651 0.7424827  0.12761469\n",
      " 0.10267849 0.21909026 0.24018047 0.10268982 0.11797168 0.9261574\n",
      " 0.1260021  0.68202254 0.16779223 0.13787286 0.14959968 0.6201293\n",
      " 0.40573057 0.93578323 0.15956452 0.12761469 0.10267849 0.75330695\n",
      " 0.8893101  0.93445736 0.33896737 0.74145554 0.40073825 0.66112104\n",
      " 0.37556687 0.31838079 0.61946098 0.10610857 0.08787691 0.09024628\n",
      " 0.91486645 0.3474566  0.65582513 0.16948698 0.77479954 0.65239171\n",
      " 0.61590623 0.12600357 0.50959432 0.05232312 0.1414701  0.07054906\n",
      " 0.27990444 0.65391013 0.12384807 0.1210738  0.78062993 0.07597384\n",
      " 0.8921135  0.08797957 0.59833762 0.10611393 0.91445701 0.40571614\n",
      " 0.1026696  0.09732961 0.16948651 0.73585191 0.1344603  0.93333574\n",
      " 0.41115769 0.93660052 0.09715375 0.29357517 0.72689806 0.2803067\n",
      " 0.84880302 0.12110424 0.47900782 0.13438526 0.22581554 0.24566477\n",
      " 0.88966245 0.24529529 0.10897374 0.74151421 0.12341912 0.65236834\n",
      " 0.30156506 0.06861848 0.81873599 0.39683362 0.82177598 0.16948698\n",
      " 0.55121236 0.67450153 0.82925718 0.5314443  0.49789208 0.37343691\n",
      " 0.10267849 0.19297315 0.95549879 0.86371262 0.10630697 0.10630697\n",
      " 0.64093808 0.12760099 0.32220232 0.18940865 0.65236834 0.14521679\n",
      " 0.10268982 0.07641803 0.24018047 0.1052321  0.54703831 0.7536125\n",
      " 0.93641142 0.06552412 0.16948698 0.13097171 0.54992928 0.13438526\n",
      " 0.60904299 0.1090981  0.23577935 0.34042665 0.10316504 0.05873539\n",
      " 0.08087494 0.25947012 0.10265307 0.13251996 0.36186609 0.42409711\n",
      " 0.04489858 0.72489341 0.7161725  0.07704741 0.09531437 0.78105385\n",
      " 0.12600357 0.12600357 0.90044763]\n"
     ]
    }
   ],
   "source": [
    "# Scikit-learn 모듈의 Logistic Regression 클래스를 이용한 모델 학습\n",
    "from sklearn.linear_model import LogisticRegression\n",
    "from sklearn.metrics import accuracy_score, precision_score, recall_score, f1_score\n",
    "\n",
    "# 데이터를 train/test dataset으로 분리\n",
    "x_train, y_train = df_train.loc[: , df_train.columns!='survived'].values, df_train['survived'].values\n",
    "x_test, y_test = df_test.loc[:, df_test.columns!='survived'].values, df_test['survived'].values\n",
    "\n",
    "# Logistic Regression Model 학습\n",
    "lr = LogisticRegression(random_state=0)\n",
    "lr.fit(x_train, y_train)\n",
    "\n",
    "# 학습한 모델의 test dataset에 대한 예측 결과 반환\n",
    "y_pred = lr.predict(x_test)\n",
    "y_pred_probability = lr.predict_proba(x_test)[:,1]\n",
    "\n",
    "print(y_pred_probability)"
   ]
  },
  {
   "cell_type": "code",
   "execution_count": 12,
   "id": "above-editing",
   "metadata": {},
   "outputs": [
    {
     "name": "stdout",
     "output_type": "stream",
     "text": [
      "accuracy: 0.80\n",
      "Precision : 0.756\n",
      "Recall : 0.673\n",
      "F1 : 0.712\n"
     ]
    }
   ],
   "source": [
    "# test dataset에 대한 accuracy, precision, recall, f1 평가 지표 출력\n",
    "print(\"accuracy: %.2f\" %accuracy_score(y_test, y_pred))\n",
    "print(\"Precision : %.3f\" %precision_score(y_test, y_pred))\n",
    "print(\"Recall : %.3f\" %recall_score(y_test, y_pred))\n",
    "print(\"F1 : %.3f\" %f1_score(y_test, y_pred))"
   ]
  },
  {
   "cell_type": "code",
   "execution_count": 13,
   "id": "hired-sperm",
   "metadata": {},
   "outputs": [
    {
     "name": "stdout",
     "output_type": "stream",
     "text": [
      "[[214  32]\n",
      " [ 48  99]]\n"
     ]
    }
   ],
   "source": [
    "# Confusion Matrix\n",
    "from sklearn.metrics import confusion_matrix\n",
    "confmat = confusion_matrix(y_true = y_test, y_pred = y_pred)\n",
    "print(confmat)"
   ]
  },
  {
   "cell_type": "code",
   "execution_count": 14,
   "id": "minus-covering",
   "metadata": {},
   "outputs": [
    {
     "name": "stdout",
     "output_type": "stream",
     "text": [
      "[[4 2]\n",
      " [1 3]]\n"
     ]
    }
   ],
   "source": [
    "# sklearn.metrics.confusion_matrix()\n",
    "from sklearn.metrics import confusion_matrix\n",
    "answer = [1,1,0,1,0,0,1,0,0,0]\n",
    "predicted = [1,0,0,1,0,0,1,1,1,0]\n",
    "results = confusion_matrix(y_true = answer, y_pred = predicted)\n",
    "print(results)"
   ]
  },
  {
   "cell_type": "code",
   "execution_count": 15,
   "id": "modern-metro",
   "metadata": {},
   "outputs": [
    {
     "name": "stdout",
     "output_type": "stream",
     "text": [
      "[[214  32]\n",
      " [ 48  99]]\n"
     ]
    }
   ],
   "source": [
    "# back to the confusion matrix of titanic survivor model\n",
    "from sklearn.metrics import confusion_matrix\n",
    "confmat = confusion_matrix(y_true = y_test, y_pred = y_pred)\n",
    "print(confmat)\n",
    "# True Positive : 99\n",
    "# True Negative : 214\n",
    "# False Positive : 32\n",
    "# False Negative : 48"
   ]
  },
  {
   "cell_type": "code",
   "execution_count": 16,
   "id": "criminal-norway",
   "metadata": {},
   "outputs": [],
   "source": [
    "# 다양한 학습 분류 모델 평가"
   ]
  },
  {
   "cell_type": "code",
   "execution_count": 17,
   "id": "structural-anchor",
   "metadata": {},
   "outputs": [],
   "source": [
    "# 1) Precision : 모델이 True라고 분류한 것 중 실제 True 비율\n",
    "# 즉, PPV = TP / (TP+FP)"
   ]
  },
  {
   "cell_type": "code",
   "execution_count": 18,
   "id": "valuable-construction",
   "metadata": {},
   "outputs": [],
   "source": [
    "# 2) Recall : 모델이 찾은 True의 coverage\n",
    "# TPR = TP / P = TP/(TP+FN)\n",
    "# 실제로 positive 중에 true positive 인 것 비율"
   ]
  },
  {
   "cell_type": "code",
   "execution_count": 19,
   "id": "young-cowboy",
   "metadata": {},
   "outputs": [],
   "source": [
    "# 3) Accuracy : True Positive + True Negative => True\n",
    "# ACC = (TP+TN) / P+N"
   ]
  },
  {
   "cell_type": "code",
   "execution_count": 20,
   "id": "extended-prerequisite",
   "metadata": {},
   "outputs": [],
   "source": [
    "# 4) F1-score : Harmonic Mean of Precision & Recall\n",
    "# Precision과 Recall이 trade-off 관계이기 때문에 조화평균으로 둘의 평균\n",
    "# F1 = 2* PPV*TPR/ PPV+TPR"
   ]
  },
  {
   "cell_type": "code",
   "execution_count": 21,
   "id": "allied-concord",
   "metadata": {},
   "outputs": [],
   "source": [
    "# 5) Fall-out :  False인 data 중에서 학습으로 True라고 예측한 비율 -> 낮을수록 좋다\n",
    "# FPR = FP / N = FP/ (FP+TN)"
   ]
  },
  {
   "cell_type": "code",
   "execution_count": 22,
   "id": "cosmetic-monday",
   "metadata": {},
   "outputs": [],
   "source": [
    "# 6) ROC Curve\n",
    "# 여러 임계값을 기준으로 Recall-Fallout의 변화를 시각화한것.\n",
    "# y=x 그래프를 기준으로 상단에 위치할수록 (왼쪽 위 모서리에 가까울수록),\n",
    "# Recall이 크고 Fall-out이 작아질 수록 분류 모델 성능이 좋아짐\n",
    "# 이때 ROC curve 자체는 graph이기 때문에 수치적인지표로 확인하기 위해\n",
    "# AUC 라는 지표(ROC-curve 의 아래 면적. 최대값 : 1) -> 1에 가까울수록 성능 좋은 모델"
   ]
  },
  {
   "cell_type": "code",
   "execution_count": 23,
   "id": "martial-struggle",
   "metadata": {},
   "outputs": [
    {
     "name": "stdout",
     "output_type": "stream",
     "text": [
      "AUC : 0.838\n"
     ]
    },
    {
     "data": {
      "text/plain": [
       "<matplotlib.legend.Legend at 0x11b6b5df0>"
      ]
     },
     "execution_count": 23,
     "metadata": {},
     "output_type": "execute_result"
    },
    {
     "data": {
      "image/png": "[encoded data removed]",
      "text/plain": [
       "<Figure size 360x288 with 1 Axes>"
      ]
     },
     "metadata": {
      "needs_background": "light"
     },
     "output_type": "display_data"
    }
   ],
   "source": [
    "# Titanic 생존자 분류 모델 AUC 출력\n",
    "from sklearn.metrics import roc_curve, roc_auc_score\n",
    "\n",
    "#AUC (Area Under the curve) 계산하여 출력\n",
    "false_positive_rate, true_positive_rate, thresholds = roc_curve(y_test, y_pred_probability)\n",
    "roc_auc = roc_auc_score(y_test, y_pred_probability)\n",
    "print(\"AUC : %.3f\" %roc_auc)\n",
    "\n",
    "#ROC curve 그래프로 출력\n",
    "plt.rcParams['figure.figsize'] = [5,4]\n",
    "plt.plot(false_positive_rate, true_positive_rate, label = \"ROC curve (area = %0.3f)\" %roc_auc,\n",
    "         color= 'red', linewidth =4.0)\n",
    "plt.plot([0,1],[0,1], 'k--')\n",
    "plt.xlim([0.0, 1.0])\n",
    "plt.ylim([0.0, 1.0])\n",
    "plt.xlabel(\"False Positive Rate\")\n",
    "plt.ylabel(\"True Positive Rate\")\n",
    "plt.title(\"ROC curve of Logistic regression\")\n",
    "plt.legend(loc = 'lower right')"
   ]
  },
  {
   "cell_type": "code",
   "execution_count": 24,
   "id": "afraid-earth",
   "metadata": {},
   "outputs": [
    {
     "data": {
      "image/png": "[encoded data removed]",
      "text/plain": [
       "<Figure size 360x288 with 1 Axes>"
      ]
     },
     "metadata": {
      "needs_background": "light"
     },
     "output_type": "display_data"
    }
   ],
   "source": [
    "# 데이터 분류 모델 성능 개선!\n",
    "# step1. 데이터 전처리\n",
    "df_train = pd.read_csv(\"titanic_train.csv\")\n",
    "df_test = pd.read_csv(\"titanic_test.csv\")\n",
    "df_train = df_train.drop(['ticket', 'body','home.dest'], axis = 1)\n",
    "df_test = df_test.drop(['ticket', 'body','home.dest'], axis = 1) #name, cabin을 생존자 분류 모델에 한번 추가해보겠다.\n",
    "\n",
    "# age 결측값 : 평균값으로 대체\n",
    "replace_mean = df_train[df_train['age']>0]['age'].mean()\n",
    "df_train['age'] = df_train['age'].fillna(replace_mean)\n",
    "df_test['age'] = df_test['age'].fillna(replace_mean)\n",
    "\n",
    "# embark 결측값 : 2개의 결측값을 최빈값으로 대체\n",
    "embarked_mode = df_train['embarked'].value_counts().index[0]\n",
    "df_train['embarked'] = df_train['embarked'].fillna(embarked_mode)\n",
    "df_test['embarked'] = df_test['embarked'].fillna(embarked_mode)\n",
    "\n",
    "# one-hot encoding을 위한 통합 데이터 프레임(whole_df)을 생성\n",
    "whole_df = df_train.append(df_test)\n",
    "train_idx_num = len(df_train)\n",
    "\n",
    "# cabin 결측값 처리\n",
    "whole_df['cabin'] = whole_df['cabin'].fillna('X')\n",
    "# cabin의 첫 문자 추출\n",
    "whole_df['cabin'] = whole_df['cabin'].apply(lambda x: x[0])\n",
    "# 추출 문자 중 G, T는 너무 작아서 'X'로 대체\n",
    "whole_df['cabin'] = whole_df['cabin'].replace({\"G\":\"X\", \"T\":\"X\"})\n",
    "\n",
    "ax = sns.countplot(x = 'cabin', hue = 'survived', data = whole_df)\n",
    "plt.show()\n",
    "# cabin feature 또한 두 그룹간의 유의미한 차이가 있는 것으로 판단 -> 분류모델에 포함해보자."
   ]
  },
  {
   "cell_type": "code",
   "execution_count": 25,
   "id": "quick-container",
   "metadata": {},
   "outputs": [
    {
     "name": "stdout",
     "output_type": "stream",
     "text": [
      "['Miss', 'Mr', 'Master', 'Mrs', 'Dr', 'Mlle', 'Col', 'Rev', 'Ms', 'Mme', 'Sir', 'the Countess', 'Dona', 'Jonkheer', 'Lady', 'Major', 'Don', 'Capt']\n"
     ]
    }
   ],
   "source": [
    "# name feature 활용\n",
    "# 이름에서 호칭 추출 (전처리)\n",
    "name_grade = whole_df['name'].apply(lambda x : x.split(\", \", 1)[1].split(\".\")[0])\n",
    "name_grade = name_grade.unique().tolist()\n",
    "print(name_grade)"
   ]
  },
  {
   "cell_type": "code",
   "execution_count": 26,
   "id": "spare-brown",
   "metadata": {},
   "outputs": [
    {
     "name": "stdout",
     "output_type": "stream",
     "text": [
      "D    758\n",
      "F    261\n",
      "B    201\n",
      "E     61\n",
      "A     24\n",
      "G      2\n",
      "C      2\n",
      "Name: name, dtype: int64\n"
     ]
    }
   ],
   "source": [
    "# 호칭에 따라 사회적 지위를 정의 -> categorical feature로 정의\n",
    "grade_dict = {\n",
    "    'A' : ['Rev', 'Col', 'Major', 'Dr', 'Capt', 'Sir'], #명예직\n",
    "    'B' : ['Ms', \"Mme\",\"Mrs\", 'Dona'], #여성\n",
    "    'C' : ['Jonkheer', 'the Countess'], #귀족, 작위\n",
    "    'D' : ['Mr', 'Don'], #남성\n",
    "    'E' : ['Master'], #젊은 남성\n",
    "    'F' : ['Miss', 'Mile', 'Lady'] #젊은 여성\n",
    "}\n",
    "\n",
    "#정의한 호칭 카테고리에 따라 A~F의 문자로 name feature 재정의\n",
    "def give_grade(x):\n",
    "    grade = x.split(\", \", 1)[1].split(\".\")[0]\n",
    "    for key, value in grade_dict.items():\n",
    "        for title in value:\n",
    "            if grade == title:\n",
    "                return key\n",
    "    return 'G'\n",
    "\n",
    "# 위의 함수를 적용해 name feature를 새롭게 정의\n",
    "whole_df['name'] = whole_df['name'].apply(lambda x : give_grade(x))\n",
    "print(whole_df['name'].value_counts())"
   ]
  },
  {
   "cell_type": "code",
   "execution_count": 27,
   "id": "amino-visibility",
   "metadata": {},
   "outputs": [
    {
     "data": {
      "image/png": "[encoded data removed]",
      "text/plain": [
       "<Figure size 360x288 with 1 Axes>"
      ]
     },
     "metadata": {
      "needs_background": "light"
     },
     "output_type": "display_data"
    }
   ],
   "source": [
    "ax = sns.countplot(x = 'name', hue = 'survived', data = whole_df)\n",
    "plt.show()\n",
    "#이번에도 plotting을 해보니 name feature 역시 생존/비생존자 그룹 간 분포의 유의미한 차이 있는 것 판단"
   ]
  },
  {
   "cell_type": "code",
   "execution_count": 28,
   "id": "charitable-resident",
   "metadata": {},
   "outputs": [
    {
     "data": {
      "text/html": [
       "<div>\n",
       "<style scoped>\n",
       "    .dataframe tbody tr th:only-of-type {\n",
       "        vertical-align: middle;\n",
       "    }\n",
       "\n",
       "    .dataframe tbody tr th {\n",
       "        vertical-align: top;\n",
       "    }\n",
       "\n",
       "    .dataframe thead th {\n",
       "        text-align: right;\n",
       "    }\n",
       "</style>\n",
       "<table border=\"1\" class=\"dataframe\">\n",
       "  <thead>\n",
       "    <tr style=\"text-align: right;\">\n",
       "      <th></th>\n",
       "      <th>pclass</th>\n",
       "      <th>survived</th>\n",
       "      <th>age</th>\n",
       "      <th>sibsp</th>\n",
       "      <th>parch</th>\n",
       "      <th>fare</th>\n",
       "      <th>name_A</th>\n",
       "      <th>name_B</th>\n",
       "      <th>name_C</th>\n",
       "      <th>name_D</th>\n",
       "      <th>...</th>\n",
       "      <th>cabin_A</th>\n",
       "      <th>cabin_B</th>\n",
       "      <th>cabin_C</th>\n",
       "      <th>cabin_D</th>\n",
       "      <th>cabin_E</th>\n",
       "      <th>cabin_F</th>\n",
       "      <th>cabin_X</th>\n",
       "      <th>embarked_C</th>\n",
       "      <th>embarked_Q</th>\n",
       "      <th>embarked_S</th>\n",
       "    </tr>\n",
       "  </thead>\n",
       "  <tbody>\n",
       "    <tr>\n",
       "      <th>0</th>\n",
       "      <td>2</td>\n",
       "      <td>1</td>\n",
       "      <td>13.000000</td>\n",
       "      <td>0</td>\n",
       "      <td>1</td>\n",
       "      <td>19.5000</td>\n",
       "      <td>0</td>\n",
       "      <td>0</td>\n",
       "      <td>0</td>\n",
       "      <td>0</td>\n",
       "      <td>...</td>\n",
       "      <td>0</td>\n",
       "      <td>0</td>\n",
       "      <td>0</td>\n",
       "      <td>0</td>\n",
       "      <td>0</td>\n",
       "      <td>0</td>\n",
       "      <td>1</td>\n",
       "      <td>0</td>\n",
       "      <td>0</td>\n",
       "      <td>1</td>\n",
       "    </tr>\n",
       "    <tr>\n",
       "      <th>1</th>\n",
       "      <td>2</td>\n",
       "      <td>1</td>\n",
       "      <td>4.000000</td>\n",
       "      <td>1</td>\n",
       "      <td>1</td>\n",
       "      <td>23.0000</td>\n",
       "      <td>0</td>\n",
       "      <td>0</td>\n",
       "      <td>0</td>\n",
       "      <td>0</td>\n",
       "      <td>...</td>\n",
       "      <td>0</td>\n",
       "      <td>0</td>\n",
       "      <td>0</td>\n",
       "      <td>0</td>\n",
       "      <td>0</td>\n",
       "      <td>0</td>\n",
       "      <td>1</td>\n",
       "      <td>0</td>\n",
       "      <td>0</td>\n",
       "      <td>1</td>\n",
       "    </tr>\n",
       "    <tr>\n",
       "      <th>2</th>\n",
       "      <td>2</td>\n",
       "      <td>1</td>\n",
       "      <td>30.000000</td>\n",
       "      <td>1</td>\n",
       "      <td>0</td>\n",
       "      <td>13.8583</td>\n",
       "      <td>0</td>\n",
       "      <td>0</td>\n",
       "      <td>0</td>\n",
       "      <td>0</td>\n",
       "      <td>...</td>\n",
       "      <td>0</td>\n",
       "      <td>0</td>\n",
       "      <td>0</td>\n",
       "      <td>0</td>\n",
       "      <td>0</td>\n",
       "      <td>0</td>\n",
       "      <td>1</td>\n",
       "      <td>1</td>\n",
       "      <td>0</td>\n",
       "      <td>0</td>\n",
       "    </tr>\n",
       "    <tr>\n",
       "      <th>3</th>\n",
       "      <td>3</td>\n",
       "      <td>0</td>\n",
       "      <td>30.231444</td>\n",
       "      <td>0</td>\n",
       "      <td>0</td>\n",
       "      <td>7.7250</td>\n",
       "      <td>0</td>\n",
       "      <td>0</td>\n",
       "      <td>0</td>\n",
       "      <td>1</td>\n",
       "      <td>...</td>\n",
       "      <td>0</td>\n",
       "      <td>0</td>\n",
       "      <td>0</td>\n",
       "      <td>0</td>\n",
       "      <td>0</td>\n",
       "      <td>0</td>\n",
       "      <td>1</td>\n",
       "      <td>0</td>\n",
       "      <td>1</td>\n",
       "      <td>0</td>\n",
       "    </tr>\n",
       "    <tr>\n",
       "      <th>4</th>\n",
       "      <td>3</td>\n",
       "      <td>1</td>\n",
       "      <td>22.000000</td>\n",
       "      <td>0</td>\n",
       "      <td>0</td>\n",
       "      <td>7.7250</td>\n",
       "      <td>0</td>\n",
       "      <td>0</td>\n",
       "      <td>0</td>\n",
       "      <td>0</td>\n",
       "      <td>...</td>\n",
       "      <td>0</td>\n",
       "      <td>0</td>\n",
       "      <td>0</td>\n",
       "      <td>0</td>\n",
       "      <td>0</td>\n",
       "      <td>0</td>\n",
       "      <td>1</td>\n",
       "      <td>0</td>\n",
       "      <td>1</td>\n",
       "      <td>0</td>\n",
       "    </tr>\n",
       "  </tbody>\n",
       "</table>\n",
       "<p>5 rows × 25 columns</p>\n",
       "</div>"
      ],
      "text/plain": [
       "   pclass  survived        age  sibsp  parch     fare  name_A  name_B  name_C  \\\n",
       "0       2         1  13.000000      0      1  19.5000       0       0       0   \n",
       "1       2         1   4.000000      1      1  23.0000       0       0       0   \n",
       "2       2         1  30.000000      1      0  13.8583       0       0       0   \n",
       "3       3         0  30.231444      0      0   7.7250       0       0       0   \n",
       "4       3         1  22.000000      0      0   7.7250       0       0       0   \n",
       "\n",
       "   name_D  ...  cabin_A  cabin_B  cabin_C  cabin_D  cabin_E  cabin_F  cabin_X  \\\n",
       "0       0  ...        0        0        0        0        0        0        1   \n",
       "1       0  ...        0        0        0        0        0        0        1   \n",
       "2       0  ...        0        0        0        0        0        0        1   \n",
       "3       1  ...        0        0        0        0        0        0        1   \n",
       "4       0  ...        0        0        0        0        0        0        1   \n",
       "\n",
       "   embarked_C  embarked_Q  embarked_S  \n",
       "0           0           0           1  \n",
       "1           0           0           1  \n",
       "2           1           0           0  \n",
       "3           0           1           0  \n",
       "4           0           1           0  \n",
       "\n",
       "[5 rows x 25 columns]"
      ]
     },
     "execution_count": 28,
     "metadata": {},
     "output_type": "execute_result"
    }
   ],
   "source": [
    "# One-hot encoding\n",
    "whole_df_encoded = pd.get_dummies(whole_df)\n",
    "df_train = whole_df_encoded[:train_idx_num]\n",
    "df_test = whole_df_encoded[train_idx_num:]\n",
    "df_train.head()"
   ]
  },
  {
   "cell_type": "code",
   "execution_count": 29,
   "id": "divided-scott",
   "metadata": {},
   "outputs": [
    {
     "name": "stdout",
     "output_type": "stream",
     "text": [
      "[0.07896093 0.74349627 0.08218346 0.09291669 0.17111803 0.59341491\n",
      " 0.43193844 0.42376352 0.09240554 0.09129653 0.22702961 0.08965747\n",
      " 0.67596161 0.67313893 0.94513347 0.16505508 0.61350115 0.45706584\n",
      " 0.87703881 0.08671678 0.1059189  0.16675127 0.09506436 0.92580808\n",
      " 0.64454417 0.75633744 0.17954936 0.13162251 0.10468725 0.6894896\n",
      " 0.79460987 0.96934707 0.90866142 0.21675581 0.92113711 0.09116136\n",
      " 0.08667974 0.25950105 0.14285867 0.10235115 0.09107971 0.10118122\n",
      " 0.48686136 0.66836102 0.52455499 0.2339632  0.13228053 0.96599157\n",
      " 0.7620872  0.09144763 0.78374089 0.09123992 0.10230819 0.54566893\n",
      " 0.09867427 0.0912808  0.95493783 0.53590941 0.68222749 0.8582709\n",
      " 0.11050189 0.6837269  0.30674345 0.63987134 0.33781819 0.65135862\n",
      " 0.16610279 0.14285867 0.10805744 0.69967814 0.74642664 0.08331731\n",
      " 0.52459784 0.06172424 0.64488445 0.97005827 0.18256472 0.89233522\n",
      " 0.53598476 0.10250429 0.22656047 0.73003097 0.1463597  0.46189318\n",
      " 0.42354165 0.91487854 0.07279162 0.06651251 0.14434484 0.10422419\n",
      " 0.14285867 0.14285867 0.0734019  0.1195161  0.01548236 0.57828023\n",
      " 0.12298741 0.54250373 0.11578236 0.89499348 0.22228379 0.06298663\n",
      " 0.34382011 0.59041432 0.09203887 0.08506763 0.84436465 0.10270211\n",
      " 0.08354927 0.1901224  0.39538778 0.38205669 0.21282669 0.17658848\n",
      " 0.65545787 0.11153287 0.21625361 0.45518821 0.14212236 0.61936265\n",
      " 0.54685622 0.56492585 0.34437114 0.37100047 0.07687823 0.10250429\n",
      " 0.09124201 0.09659536 0.56199694 0.23875917 0.09124201 0.34437114\n",
      " 0.11018743 0.42699918 0.18279742 0.10610455 0.09388978 0.64480053\n",
      " 0.10395188 0.64515358 0.20278469 0.93920226 0.10820613 0.11207824\n",
      " 0.19672458 0.27526013 0.6188944  0.09124201 0.80097425 0.23934436\n",
      " 0.36814403 0.39696989 0.17073695 0.76691516 0.14620655 0.14286023\n",
      " 0.70767205 0.95099592 0.14343598 0.10604328 0.09480988 0.43621698\n",
      " 0.50477745 0.66411494 0.11271145 0.72392675 0.10250429 0.10967117\n",
      " 0.07750087 0.10142071 0.16549758 0.44445306 0.64490473 0.10275595\n",
      " 0.68844834 0.25849058 0.11007032 0.88147253 0.53462665 0.97172668\n",
      " 0.97055759 0.10250429 0.48991548 0.1960168  0.7984673  0.62727995\n",
      " 0.83273882 0.14286023 0.10894321 0.11866455 0.30100137 0.34545647\n",
      " 0.8963773  0.126647   0.49232462 0.81983468 0.06852704 0.79314273\n",
      " 0.104568   0.09505796 0.08456454 0.0912808  0.10614892 0.95444515\n",
      " 0.27646248 0.11199525 0.10437646 0.19695064 0.11614219 0.08511966\n",
      " 0.64497419 0.278296   0.16893882 0.06177696 0.74777256 0.10129409\n",
      " 0.09505796 0.05668066 0.15424595 0.0910295  0.87491382 0.62793456\n",
      " 0.85653596 0.97526285 0.87615451 0.05372746 0.53598476 0.70429085\n",
      " 0.6673706  0.78318767 0.71872304 0.46224047 0.10027862 0.64957162\n",
      " 0.11041993 0.10155639 0.64486417 0.07198638 0.10884263 0.50681604\n",
      " 0.14343755 0.18025535 0.0930702  0.14928377 0.1211321  0.50756326\n",
      " 0.27347967 0.18898493 0.7160455  0.22955546 0.09147011 0.09082878\n",
      " 0.74612796 0.09333455 0.84010409 0.14285867 0.73538599 0.10614892\n",
      " 0.09124201 0.14988251 0.16054528 0.0912808  0.1004635  0.96985229\n",
      " 0.10249963 0.67175814 0.1027655  0.28367011 0.1169665  0.54276133\n",
      " 0.37812387 0.92474758 0.12110924 0.10614892 0.09124201 0.92407213\n",
      " 0.9635483  0.96103843 0.25338103 0.6412383  0.22499156 0.56189597\n",
      " 0.60464954 0.15058916 0.62237749 0.09332922 0.08197005 0.08333468\n",
      " 0.79441092 0.43972153 0.65439244 0.14286023 0.79184278 0.64497419\n",
      " 0.58533161 0.10250429 0.58967934 0.216234   0.11404016 0.07056116\n",
      " 0.17954936 0.6458778  0.09363115 0.10219681 0.68586496 0.05997121\n",
      " 0.92188304 0.08233696 0.61496615 0.09334739 0.88995255 0.23899939\n",
      " 0.09121163 0.08364081 0.14285867 0.72831115 0.11025244 0.95297237\n",
      " 0.25084891 0.93972858 0.07133575 0.19549423 0.69715567 0.18066917\n",
      " 0.80699373 0.1022966  0.35014689 0.11001216 0.6227173  0.16330501\n",
      " 0.917126   0.16227151 0.09507522 0.70806325 0.07107818 0.64488445\n",
      " 0.39381388 0.06923904 0.80617859 0.38581696 0.70576973 0.67433817\n",
      " 0.9406093  0.69752918 0.93304465 0.57059977 0.34482391 0.44710516\n",
      " 0.09124201 0.11138242 0.95820445 0.69914349 0.10422419 0.10422419\n",
      " 0.75022322 0.10610455 0.67806902 0.15834133 0.71961678 0.11638113\n",
      " 0.0912808  0.0513397  0.37528599 0.06523562 0.57267695 0.74311972\n",
      " 0.97527998 0.04416795 0.14286023 0.10809399 0.38658932 0.11001216\n",
      " 0.86450509 0.0954947  0.33078959 0.23081204 0.09291669 0.04061793\n",
      " 0.27679198 0.37048023 0.09115507 0.4372171  0.37790059 0.49512127\n",
      " 0.05393582 0.72323473 0.60401555 0.36459122 0.08666975 0.79909891\n",
      " 0.10250429 0.2640288  0.87357134]\n"
     ]
    }
   ],
   "source": [
    "# Feature Engineering 이후 dataset 학습\n",
    "# 데이터를 train/test dataset으로 분리\n",
    "x_train, y_train = df_train.loc[: , df_train.columns!='survived'].values, df_train['survived'].values\n",
    "x_test, y_test = df_test.loc[:, df_test.columns!='survived'].values, df_test['survived'].values\n",
    "\n",
    "# Logistic Regression Model 학습\n",
    "lr = LogisticRegression(random_state=0)\n",
    "lr.fit(x_train, y_train)\n",
    "\n",
    "# 학습한 모델의 test dataset에 대한 예측 결과 반환\n",
    "y_pred = lr.predict(x_test)\n",
    "y_pred_probability = lr.predict_proba(x_test)[:,1]\n",
    "\n",
    "\n",
    "print(y_pred_probability)"
   ]
  },
  {
   "cell_type": "code",
   "execution_count": 30,
   "id": "future-footwear",
   "metadata": {},
   "outputs": [
    {
     "name": "stdout",
     "output_type": "stream",
     "text": [
      "accuracy: 0.80\n",
      "Precision : 0.739\n",
      "Recall : 0.714\n",
      "F1 : 0.727\n",
      "AUC : 0.853\n"
     ]
    }
   ],
   "source": [
    "# 평가 지표 출력\n",
    "print(\"accuracy: %.2f\" %accuracy_score(y_test, y_pred))\n",
    "print(\"Precision : %.3f\" %precision_score(y_test, y_pred))\n",
    "print(\"Recall : %.3f\" %recall_score(y_test, y_pred))\n",
    "print(\"F1 : %.3f\" %f1_score(y_test, y_pred))\n",
    "\n",
    "# AUC 계산\n",
    "false_positive_rate, true_positive_rate, thresholds = roc_curve(y_test, y_pred_probability)\n",
    "roc_auc = roc_auc_score(y_test, y_pred_probability)\n",
    "print(\"AUC : %.3f\" %roc_auc)\n",
    "\n",
    "# Feature 추가하기 전과 후에 봤을때 Accuracy는 조금 줄었고\n",
    "# Precision은 감소, 그와 trade-off 있는 Recall은 증가\n",
    "# AUC가 증가. => 전반적인 모델 성능 향상 있었다!"
   ]
  },
  {
   "cell_type": "code",
   "execution_count": 31,
   "id": "technical-aquarium",
   "metadata": {},
   "outputs": [
    {
     "data": {
      "text/plain": [
       "[<matplotlib.lines.Line2D at 0x11b6eb730>]"
      ]
     },
     "execution_count": 31,
     "metadata": {},
     "output_type": "execute_result"
    },
    {
     "data": {
      "image/png": "[encoded data removed]",
      "text/plain": [
       "<Figure size 360x288 with 1 Axes>"
      ]
     },
     "metadata": {
      "needs_background": "light"
     },
     "output_type": "display_data"
    }
   ],
   "source": [
    "# 분류모델 검증 -> Overfitting 검증!!!\n",
    "# 1) K-folds cross validation\n",
    "from sklearn.model_selection import KFold\n",
    "\n",
    "# K-fold 교차 검증의 k를 5로 설정\n",
    "k = 5\n",
    "cv = KFold(k, shuffle = True, random_state =0)\n",
    "acc_history = []\n",
    "\n",
    "# K- fold를 5번의 분할 학습으로 반복\n",
    "for i, (train_data_row, test_data_row) in enumerate(cv.split(whole_df_encoded)):\n",
    "    # 5개로 분할된 fold 중 4개를 학습 데이터 셋, 1개를 test dataset으로 지정\n",
    "    # 매 반복시마다 테스트 데이터 셋은 변경된다..\n",
    "    df_train = whole_df_encoded.iloc[train_data_row]\n",
    "    df_test = whole_df_encoded.iloc[test_data_row]\n",
    "    \n",
    "    # survived feature 를 y, 나머지 feature를 x데이터로 지정\n",
    "    splited_x_train, splited_y_train = df_train.loc[:, df_train.columns!='survived'].values, df_train['survived'].values\n",
    "    splited_x_test, splited_y_test = df_test.loc[:, df_test.columns!='survived'].values, df_test['survived'].values\n",
    "    \n",
    "    #주어진 데이터로 logistic regression 학습\n",
    "    lr = LogisticRegression(random_state=0)\n",
    "    lr.fit(splited_x_train, splited_y_train)\n",
    "    y_pred = lr.predict(splited_x_test)\n",
    "    \n",
    "    # test dataset의 accuracy 계산 -> acc_history에 저장\n",
    "    splited_acc = accuracy_score(splited_y_test, y_pred)\n",
    "    acc_history.append(splited_acc)\n",
    "\n",
    "#acc_history에 저장된 5번의 학습결과 (Accuracy)를 그래프로 출력\n",
    "plt.xlabel(\"Each K-fold\")\n",
    "plt.ylabel(\"Acc of splited test data\")\n",
    "plt.plot(range(1,k+1), acc_history)"
   ]
  },
  {
   "cell_type": "code",
   "execution_count": 32,
   "id": "searching-castle",
   "metadata": {},
   "outputs": [
    {
     "name": "stdout",
     "output_type": "stream",
     "text": [
      "Requirement already satisfied: scikit-plot in /usr/local/lib/python3.9/site-packages (0.3.7)\n",
      "Requirement already satisfied: joblib>=0.10 in /usr/local/lib/python3.9/site-packages (from scikit-plot) (1.0.1)\n",
      "Requirement already satisfied: scipy>=0.9 in /usr/local/lib/python3.9/site-packages (from scikit-plot) (1.6.3)\n",
      "Requirement already satisfied: matplotlib>=1.4.0 in /usr/local/lib/python3.9/site-packages (from scikit-plot) (3.4.0)\n",
      "Requirement already satisfied: scikit-learn>=0.18 in /usr/local/lib/python3.9/site-packages (from scikit-plot) (0.24.2)\n",
      "Requirement already satisfied: cycler>=0.10 in /usr/local/lib/python3.9/site-packages (from matplotlib>=1.4.0->scikit-plot) (0.10.0)\n",
      "Requirement already satisfied: pyparsing>=2.2.1 in /usr/local/lib/python3.9/site-packages (from matplotlib>=1.4.0->scikit-plot) (2.4.7)\n",
      "Requirement already satisfied: numpy>=1.16 in /usr/local/lib/python3.9/site-packages (from matplotlib>=1.4.0->scikit-plot) (1.20.2)\n",
      "Requirement already satisfied: kiwisolver>=1.0.1 in /usr/local/lib/python3.9/site-packages (from matplotlib>=1.4.0->scikit-plot) (1.3.1)\n",
      "Requirement already satisfied: pillow>=6.2.0 in /usr/local/lib/python3.9/site-packages (from matplotlib>=1.4.0->scikit-plot) (8.1.0)\n",
      "Requirement already satisfied: python-dateutil>=2.7 in /usr/local/lib/python3.9/site-packages (from matplotlib>=1.4.0->scikit-plot) (2.8.1)\n",
      "Requirement already satisfied: six in /usr/local/lib/python3.9/site-packages (from cycler>=0.10->matplotlib>=1.4.0->scikit-plot) (1.15.0)\n",
      "Requirement already satisfied: threadpoolctl>=2.0.0 in /usr/local/lib/python3.9/site-packages (from scikit-learn>=0.18->scikit-plot) (2.1.0)\n"
     ]
    }
   ],
   "source": [
    "# 2) Learning Curve 분석을 통해 overfitting 검증\n",
    "!pip install scikit-plot"
   ]
  },
  {
   "cell_type": "code",
   "execution_count": 33,
   "id": "unlimited-blake",
   "metadata": {},
   "outputs": [
    {
     "data": {
      "image/png": "[encoded data removed]",
      "text/plain": [
       "<Figure size 360x288 with 1 Axes>"
      ]
     },
     "metadata": {
      "needs_background": "light"
     },
     "output_type": "display_data"
    }
   ],
   "source": [
    "# Learning curve graph 출력\n",
    "import scikitplot as skplt\n",
    "skplt.estimators.plot_learning_curve(lr, x_train, y_train)\n",
    "plt.show()"
   ]
  },
  {
   "cell_type": "code",
   "execution_count": 34,
   "id": "acting-jackson",
   "metadata": {},
   "outputs": [],
   "source": [
    "# 위의 Learning curve를 통해,\n",
    "# training score와 cross-validation score의 차이가 클때 : overfitting\n",
    "# ex) training set의 크기가 400개 이상인 경우 : overfitting의 위험이 낮아지고 있다.."
   ]
  },
  {
   "cell_type": "code",
   "execution_count": null,
   "id": "rental-taiwan",
   "metadata": {},
   "outputs": [],
   "source": []
  }
 ],
 "metadata": {
  "kernelspec": {
   "display_name": "Python 3",
   "language": "python",
   "name": "python3"
  },
  "language_info": {
   "codemirror_mode": {
    "name": "ipython",
    "version": 3
   },
   "file_extension": ".py",
   "mimetype": "text/x-python",
   "name": "python",
   "nbconvert_exporter": "python",
   "pygments_lexer": "ipython3",
   "version": "3.9.2"
  }
 },
 "nbformat": 4,
 "nbformat_minor": 5
}
